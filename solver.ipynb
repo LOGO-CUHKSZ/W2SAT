{
 "cells": [
  {
   "cell_type": "code",
   "execution_count": 11,
   "metadata": {},
   "outputs": [],
   "source": [
    "from pysat.solvers import Glucose3\n",
    "from pysat.formula import CNF\n",
    "\n"
   ]
  },
  {
   "cell_type": "code",
   "execution_count": null,
   "metadata": {},
   "outputs": [],
   "source": [
    "\n",
    "g = Glucose3()\n",
    "\n",
    "filename = 'sat_prob_83.processed'\n",
    "\n",
    "formula = CNF(from_file=f'./dataset/train_formulas/{filename}.cnf')\n",
    "\n",
    "formula.nv\n",
    "\n",
    "print(formula.clauses)\n",
    "\n",
    "with Glucose3(bootstrap_with=formula.clauses) as solver:\n",
    "    print(solver.solve())\n"
   ]
  },
  {
   "attachments": {},
   "cell_type": "markdown",
   "metadata": {},
   "source": [
    "- AProVE07-03.processed.cnf: False, 7448, 1317, 74.39008522033691\n",
    "- mrpp_4x4#4_5.processed.cnf: True, 2517, 309, 0.005956888198852539\n",
    "- bmc-ibm-2.processed.cnf: True, 573, 119, 0.0014221668243408203\n",
    "- ii32e3.processed.cnf: True, 4974, 284, 0.012670040130615234\n",
    "- ssa2670-141.processed.cnf: False, 377, 91, 0.00156402587890625\n",
    "- bmc-ibm-5.processed.cnf: True, 6042, 1068, 0.009827136993408203\n",
    "- minor032.processed.cnf: False, 5130, 751, 0.06239891052246094\n",
    "- ssa2670-130.processed.cnf: False, 327, 82, 0.002245187759399414"
   ]
  },
  {
   "cell_type": "code",
   "execution_count": 6,
   "metadata": {},
   "outputs": [
    {
     "name": "stdout",
     "output_type": "stream",
     "text": [
      "['aes_24_4_keyfind_2.processed.cnf', 'sat_prob_83.processed.cnf', 'mrpp_4x4#4_5.processed.cnf', 'aes_64_1_keyfind_1.processed.cnf', 'bmc-ibm-2.processed.cnf', 'ii32e3.processed.cnf', 'ssa2670-141.processed.cnf', 'bmc-ibm-5.processed.cnf', 'minor032.processed.cnf', 'AProVE07-03.processed.cnf', 'ssa2670-130.processed.cnf', 'g2-hwmcc15deep-6s399b02-k02.processed.cnf', 'bmc-ibm-7.processed.cnf', 'countbitsrotate016.processed.cnf', 'ii32d2.processed.cnf', 'mrpp_4x4#8_8.processed.cnf', 'mrpp_4x4#4_4.processed.cnf', 'bf0432-007.processed.cnf', 'aes_24_4_keyfind_4.processed.cnf', 'smulo016.processed.cnf', 'ii32a1.processed.cnf', 'countbitssrl016.processed.cnf', 'cmu-bmc-longmult15.processed.cnf', 'aes_32_3_keyfind_2.processed.cnf', 'mrpp_4x4#6_5.processed.cnf']\n"
     ]
    }
   ],
   "source": [
    "start_time = time.time()\n",
    "filenames = os.listdir('./dataset/train_formulas/')\n",
    "\n",
    "print(filenames)"
   ]
  },
  {
   "cell_type": "code",
   "execution_count": 9,
   "metadata": {},
   "outputs": [
    {
     "name": "stdout",
     "output_type": "stream",
     "text": [
      "['mrpp_4x4#4_5.processed.cnf', 'aes_64_1_keyfind_1.processed.cnf', 'bmc-ibm-2.processed.cnf', 'ii32e3.processed.cnf', 'ssa2670-141.processed.cnf', 'bmc-ibm-5.processed.cnf', 'minor032.processed.cnf', 'AProVE07-03.processed.cnf', 'ssa2670-130.processed.cnf', 'g2-hwmcc15deep-6s399b02-k02.processed.cnf', 'bmc-ibm-7.processed.cnf', 'countbitsrotate016.processed.cnf', 'ii32d2.processed.cnf', 'mrpp_4x4#8_8.processed.cnf', 'mrpp_4x4#4_4.processed.cnf', 'bf0432-007.processed.cnf', 'aes_24_4_keyfind_4.processed.cnf', 'smulo016.processed.cnf', 'ii32a1.processed.cnf', 'countbitssrl016.processed.cnf', 'cmu-bmc-longmult15.processed.cnf', 'aes_32_3_keyfind_2.processed.cnf', 'mrpp_4x4#6_5.processed.cnf']\n",
      "mrpp_4x4#4_5.processed.cnf\n",
      "- mrpp_4x4#4_5.processed.cnf: 0.009187936782836914, True, 2517, 309\n",
      "aes_64_1_keyfind_1.processed.cnf\n"
     ]
    },
    {
     "ename": "error",
     "evalue": "Caught keyboard interrupt",
     "output_type": "error",
     "traceback": [
      "\u001b[0;31m---------------------------------------------------------------------------\u001b[0m",
      "\u001b[0;31merror\u001b[0m                                     Traceback (most recent call last)",
      "\u001b[1;32m/Users/wenweihuang/Workspace/Net2SAT/solver.ipynb Cell 5\u001b[0m in \u001b[0;36m<cell line: 14>\u001b[0;34m()\u001b[0m\n\u001b[1;32m     <a href='vscode-notebook-cell:/Users/wenweihuang/Workspace/Net2SAT/solver.ipynb#W5sZmlsZQ%3D%3D?line=16'>17</a>\u001b[0m clauses \u001b[39m=\u001b[39m formula\u001b[39m.\u001b[39mclauses\n\u001b[1;32m     <a href='vscode-notebook-cell:/Users/wenweihuang/Workspace/Net2SAT/solver.ipynb#W5sZmlsZQ%3D%3D?line=17'>18</a>\u001b[0m solver \u001b[39m=\u001b[39m Glucose3(bootstrap_with\u001b[39m=\u001b[39mformula\u001b[39m.\u001b[39mclauses)\n\u001b[0;32m---> <a href='vscode-notebook-cell:/Users/wenweihuang/Workspace/Net2SAT/solver.ipynb#W5sZmlsZQ%3D%3D?line=18'>19</a>\u001b[0m \u001b[39mprint\u001b[39m(\u001b[39mf\u001b[39m\u001b[39m'\u001b[39m\u001b[39m- \u001b[39m\u001b[39m{\u001b[39;00mfilename\u001b[39m}\u001b[39;00m\u001b[39m: \u001b[39m\u001b[39m{\u001b[39;00mtime\u001b[39m.\u001b[39mtime() \u001b[39m-\u001b[39m start_time\u001b[39m}\u001b[39;00m\u001b[39m, \u001b[39m\u001b[39m{\u001b[39;00msolver\u001b[39m.\u001b[39msolve()\u001b[39m}\u001b[39;00m\u001b[39m, \u001b[39m\u001b[39m{\u001b[39;00m\u001b[39mlen\u001b[39m(clauses)\u001b[39m}\u001b[39;00m\u001b[39m, \u001b[39m\u001b[39m{\u001b[39;00mformula\u001b[39m.\u001b[39mnv\u001b[39m}\u001b[39;00m\u001b[39m'\u001b[39m)\n",
      "File \u001b[0;32m~/anaconda3/lib/python3.9/site-packages/pysat/solvers.py:2147\u001b[0m, in \u001b[0;36mGlucose3.solve\u001b[0;34m(self, assumptions)\u001b[0m\n\u001b[1;32m   2144\u001b[0m \u001b[39mif\u001b[39;00m \u001b[39mself\u001b[39m\u001b[39m.\u001b[39muse_timer:\n\u001b[1;32m   2145\u001b[0m      start_time \u001b[39m=\u001b[39m process_time()\n\u001b[0;32m-> 2147\u001b[0m \u001b[39mself\u001b[39m\u001b[39m.\u001b[39mstatus \u001b[39m=\u001b[39m pysolvers\u001b[39m.\u001b[39;49mglucose3_solve(\u001b[39mself\u001b[39;49m\u001b[39m.\u001b[39;49mglucose, assumptions,\n\u001b[1;32m   2148\u001b[0m         \u001b[39mint\u001b[39;49m(MainThread\u001b[39m.\u001b[39;49mcheck()))\n\u001b[1;32m   2150\u001b[0m \u001b[39mif\u001b[39;00m \u001b[39mself\u001b[39m\u001b[39m.\u001b[39muse_timer:\n\u001b[1;32m   2151\u001b[0m     \u001b[39mself\u001b[39m\u001b[39m.\u001b[39mcall_time \u001b[39m=\u001b[39m process_time() \u001b[39m-\u001b[39m start_time\n",
      "\u001b[0;31merror\u001b[0m: Caught keyboard interrupt"
     ]
    }
   ],
   "source": [
    "import os\n",
    "import time\n",
    "\n",
    "\n",
    "start_time = time.time()\n",
    "filenames = os.listdir('./dataset/train_formulas/')\n",
    "\n",
    "skip_table = ['aes_24_4_keyfind_2.processed.cnf', 'sat_prob_83.processed.cnf']\n",
    "\n",
    "test_filenames = [x for x in filenames if x not in skip_table]\n",
    "\n",
    "print(test_filenames)\n",
    "\n",
    "for filename in test_filenames:\n",
    "    print(filename)\n",
    "    formula = CNF(from_file=f'./dataset/train_formulas/{filename}')\n",
    "    clauses = formula.clauses\n",
    "    solver = Glucose3(bootstrap_with=formula.clauses)\n",
    "    print(f'- {filename}: {time.time() - start_time}, {solver.solve()}, {len(clauses)}, {formula.nv}')"
   ]
  }
 ],
 "metadata": {
  "kernelspec": {
   "display_name": "base",
   "language": "python",
   "name": "python3"
  },
  "language_info": {
   "codemirror_mode": {
    "name": "ipython",
    "version": 3
   },
   "file_extension": ".py",
   "mimetype": "text/x-python",
   "name": "python",
   "nbconvert_exporter": "python",
   "pygments_lexer": "ipython3",
   "version": "3.9.12"
  },
  "orig_nbformat": 4,
  "vscode": {
   "interpreter": {
    "hash": "7df9adec5398d45472c8bf81047aa2ae699f575f599903d765e95bf4a199fe03"
   }
  }
 },
 "nbformat": 4,
 "nbformat_minor": 2
}
