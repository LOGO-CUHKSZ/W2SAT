{
 "cells": [
  {
   "cell_type": "code",
   "execution_count": null,
   "metadata": {},
   "outputs": [],
   "source": [
    "import itertools as it\n",
    "import time\n",
    "from utils import *\n",
    "from pysat.solvers import Glucose3\n",
    "\n",
    "import numpy as np\n",
    "from scipy import sparse\n",
    "\n",
    "import torch\n",
    "import torch.nn.functional as F\n",
    "from torch_geometric.nn import GCNConv\n",
    "# from torch_geometric.nn import GATConv\n",
    "from torch_geometric.data import Data"
   ]
  },
  {
   "cell_type": "code",
   "execution_count": null,
   "metadata": {},
   "outputs": [],
   "source": [
    "# CELL\n",
    "import warnings\n",
    "warnings.filterwarnings('ignore')\n",
    "\n",
    "import pickle\n",
    "import numpy as np\n",
    "import scipy.sparse as sp\n",
    "from scipy.sparse import load_npz\n",
    "\n",
    "import torch\n",
    "\n",
    "from cell.utils import link_prediction_performance\n",
    "from cell.cell import Cell, EdgeOverlapCriterion, LinkPredictionCriterion\n",
    "from cell.graph_statistics import compute_graph_statistics"
   ]
  },
  {
   "cell_type": "code",
   "execution_count": null,
   "metadata": {},
   "outputs": [],
   "source": [
    "class GCN(torch.nn.Module):\n",
    "    def __init__(self, node_features):\n",
    "        super().__init__()\n",
    "        # GCN initialization\n",
    "        self.conv1 = GCNConv(node_features, 128)\n",
    "        self.conv2 = GCNConv(128, 128)\n",
    "        # self.conv1 = GATConv(node_features, 64, 5)\n",
    "        # self.conv2 = GATConv(64 * 5, 128)\n",
    "        # self.conv3 = GCNConv(128, 128)\n",
    "\n",
    "    def forward(self, data):\n",
    "        x, edge_index = data.x, data.edge_index\n",
    "        x = self.conv1(x, edge_index)\n",
    "        x = F.relu(x)\n",
    "        # x = F.elu(x)\n",
    "        # x = F.dropout(x, training=self.training)\n",
    "        x = self.conv2(x, edge_index)\n",
    "        # x = F.tanh(x)\n",
    "        # x = self.conv3(x, edge_index)\n",
    "\n",
    "        return x"
   ]
  },
  {
   "cell_type": "code",
   "execution_count": null,
   "metadata": {},
   "outputs": [],
   "source": [
    "sat_name = 'ssa2670-141.processed.cnf'\n",
    "sat_path = f'./dataset/formulas/{sat_name}'\n",
    "num_vars, num_clauses, sat_instance = read_sat(sat_path)\n",
    "max_len = max([len(clause) for clause in sat_instance])\n",
    "\n",
    "lig_adjacency_matrix, lig_weighted_adjacency_matrix = sat_to_lig_adjacency_matrix(sat_instance, num_vars)\n",
    "edge_index = torch.tensor(np.array(lig_adjacency_matrix.nonzero()), dtype=torch.long)\n",
    "edge_value = lig_weighted_adjacency_matrix[lig_adjacency_matrix.nonzero()]\n",
    "\n",
    "embeddings = torch.load(f'./model/embeddings/{sat_name}.pt')\n",
    "embeddings.requires_grad = False\n",
    "x = embeddings\n",
    "data = Data(x=x, edge_index=edge_index)"
   ]
  },
  {
   "cell_type": "code",
   "execution_count": null,
   "metadata": {},
   "outputs": [],
   "source": [
    "ranks = [8, 10, 12]\n",
    "graphs = []\n",
    "metrics_table = []\n",
    "\n",
    "for rank in ranks:\n",
    "    print(f'rank: {rank}')\n",
    "    model = GCN(50)\n",
    "    optimizer = torch.optim.Adam(model.parameters(), lr=0.01, weight_decay=5e-4)\n",
    "    model.train()\n",
    "    for epoch in range(500):\n",
    "        optimizer.zero_grad()\n",
    "        out = model(data)\n",
    "        src, dst = edge_index\n",
    "        score = (out[src] * out[dst]).sum(dim=-1)\n",
    "        loss = F.mse_loss(score, torch.tensor(edge_value, dtype=torch.float))\n",
    "        loss.backward()\n",
    "        optimizer.step()\n",
    "    \n",
    "    sparse_matrix = sparse.csr_matrix(lig_adjacency_matrix)\n",
    "    cell_model = Cell(A=sparse_matrix,\n",
    "                H=rank,\n",
    "                callbacks=[EdgeOverlapCriterion(invoke_every=5, edge_overlap_limit=.80)])\n",
    "    cell_model.train(steps=400,\n",
    "                optimizer_fn=torch.optim.Adam,\n",
    "                optimizer_args={'lr': 0.1,\n",
    "                                'weight_decay': 1e-7})\n",
    "\n",
    "    generated_graph = cell_model.sample_graph()\n",
    "    graph_prime = generated_graph.A\n",
    "    graph_prime = graph_post_process(graph_prime)\n",
    "\n",
    "    edge_index_prime = torch.tensor(graph_prime.nonzero(), dtype=torch.long)\n",
    "    x = embeddings\n",
    "    data_prime = Data(x=x, edge_index = edge_index_prime)\n",
    "    out = model(data_prime)\n",
    "    src, dst = edge_index_prime\n",
    "    score = (out[src] * out[dst]).sum(dim=-1)\n",
    "    weight = score.detach().numpy()\n",
    "    weight[weight <= 1] = 1\n",
    "    weight = np.rint(weight).astype(int)\n",
    "\n",
    "    weighted_graph_prime = np.copy(graph_prime)\n",
    "    weighted_graph_prime[weighted_graph_prime.nonzero()] = weight\n",
    "\n",
    "    graphs.append(weighted_graph_prime)\n",
    "\n",
    "    min_len = 1\n",
    "    clique_candidates = get_clique_candidates(graph_prime, min_len, max_len)\n",
    "    current_cliques = lazy_clique_edge_cover(np.copy(weighted_graph_prime), clique_candidates, int(num_clauses/1.5))\n",
    "    current_sat = cliques_to_sat(current_cliques)\n",
    "\n",
    "    metrics = eval_solution(current_sat, num_vars)\n",
    "    item = [f\"rank = {rank}\", num_vars, num_clauses]\n",
    "    item.extend(metrics)\n",
    "    metrics_table.append(item)\n",
    "\n",
    "\n"
   ]
  },
  {
   "cell_type": "code",
   "execution_count": null,
   "metadata": {},
   "outputs": [],
   "source": [
    "print(graphs)\n",
    "print(metrics_table)"
   ]
  }
 ],
 "metadata": {
  "kernelspec": {
   "display_name": "base",
   "language": "python",
   "name": "python3"
  },
  "language_info": {
   "name": "python",
   "version": "3.9.12 (main, Jun  1 2022, 06:34:44) \n[Clang 12.0.0 ]"
  },
  "orig_nbformat": 4,
  "vscode": {
   "interpreter": {
    "hash": "7df9adec5398d45472c8bf81047aa2ae699f575f599903d765e95bf4a199fe03"
   }
  }
 },
 "nbformat": 4,
 "nbformat_minor": 2
}
