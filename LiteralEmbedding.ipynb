{
 "cells": [
  {
   "cell_type": "code",
   "execution_count": 1,
   "metadata": {},
   "outputs": [],
   "source": [
    "import torch\n",
    "import torch.nn as nn"
   ]
  },
  {
   "cell_type": "code",
   "execution_count": 2,
   "metadata": {},
   "outputs": [],
   "source": [
    "class CBOW(torch.nn.Module):\n",
    "    def __init__(self, vocab_size, embedding_dim, literal_to_ix):\n",
    "        super(CBOW, self).__init__()\n",
    "        # out: 1 x embedding_dim\n",
    "        self.vocab_size = vocab_size\n",
    "        self.embeddings = nn.Embedding(vocab_size, embedding_dim)\n",
    "        self.literal_to_ix = literal_to_ix\n",
    "        self.linear1 = nn.Linear(embedding_dim, 128)\n",
    "        self.activation_function1 = nn.ReLU()\n",
    "        \n",
    "        # out: 1 x vocab_size\n",
    "        self.linear2 = nn.Linear(128, vocab_size)\n",
    "        self.activation_function2 = nn.LogSoftmax(dim=-1)\n",
    "        \n",
    "    def forward(self, inputs):\n",
    "        embeds = sum(self.embeddings(inputs)).view(1, -1)\n",
    "        out = self.linear1(embeds)\n",
    "        out = self.activation_function1(out)\n",
    "        out = self.linear2(out)\n",
    "        out = self.activation_function2(out)\n",
    "        return out\n",
    "    \n",
    "    def get_literal_embedding(self, literal):\n",
    "        ix = torch.tensor([self.literal_to_ix[literal]])\n",
    "        return self.embeddings(ix)\n",
    "\n",
    "    def get_embeddings(self):\n",
    "        ix = torch.tensor([i for i in range(self.vocab_size)])\n",
    "        return self.embeddings(ix)"
   ]
  },
  {
   "cell_type": "code",
   "execution_count": 3,
   "metadata": {},
   "outputs": [],
   "source": [
    "# utils \n",
    "\n",
    "def make_context_vector(context, literal_to_idx):\n",
    "    idxs = [literal_to_idx[l] for l in context]\n",
    "    return torch.tensor(idxs, dtype=torch.long)\n",
    "\n",
    "\n",
    "def read_sat(sat_path):\n",
    "    with open(sat_path) as f:\n",
    "        sat_lines = f.readlines()\n",
    "        header = sat_lines[0]\n",
    "        header_info = header.replace(\"\\n\", \"\").split(\" \")\n",
    "        num_vars = int(header_info[-2])\n",
    "        num_clauses = int(header_info[-1])\n",
    "\n",
    "        sat = [[int(x) for x in line.replace(' 0\\n', '').split(' ')]\n",
    "               for line in sat_lines[1:]]\n",
    "\n",
    "        return sat, num_vars, num_clauses"
   ]
  },
  {
   "cell_type": "code",
   "execution_count": 4,
   "metadata": {},
   "outputs": [
    {
     "name": "stdout",
     "output_type": "stream",
     "text": [
      "data size: 1161\n"
     ]
    }
   ],
   "source": [
    "# data preprocessing\n",
    "\n",
    "sat_path = './ssa2670-141.processed.cnf'\n",
    "sat_instance, num_vars, num_clauses = read_sat(sat_path)\n",
    "vocab_size = num_vars * 2\n",
    "\n",
    "data = []\n",
    "for clause in sat_instance:\n",
    "    clause_len = len(clause)\n",
    "    for i in range(clause_len):\n",
    "        context = [clause[x] for x in range(clause_len) if x != i]\n",
    "        target = clause[i]\n",
    "        data.append((context, target))\n",
    "\n",
    "print(f'data size: {len(data)}')"
   ]
  },
  {
   "cell_type": "code",
   "execution_count": 5,
   "metadata": {},
   "outputs": [
    {
     "name": "stdout",
     "output_type": "stream",
     "text": [
      "0\n",
      "10\n",
      "20\n",
      "30\n",
      "40\n",
      "50\n",
      "60\n",
      "70\n",
      "80\n",
      "90\n"
     ]
    }
   ],
   "source": [
    "# model setting\n",
    "\n",
    "EMDEDDING_DIM = 50\n",
    "\n",
    "literal_to_ix = {}\n",
    "for i in range(1, num_vars + 1):\n",
    "    literal_to_ix[i] = 2 * i - 2\n",
    "    literal_to_ix[-i] = 2 * i - 1\n",
    "\n",
    "model = CBOW(vocab_size, EMDEDDING_DIM, literal_to_ix)\n",
    "loss_function = nn.NLLLoss()\n",
    "optimizer = torch.optim.SGD(model.parameters(), lr=0.001)\n",
    "\n",
    "# training\n",
    "for epoch in range(100):\n",
    "    total_loss = 0\n",
    "    for context, target in data:\n",
    "        context_vector = make_context_vector(context, literal_to_ix)\n",
    "        log_probs = model(context_vector)\n",
    "        total_loss += loss_function(log_probs, torch.tensor([literal_to_ix[target]]))\n",
    "    \n",
    "    optimizer.zero_grad()\n",
    "    total_loss.backward()\n",
    "    optimizer.step()\n",
    "    \n",
    "    if epoch % 10 == 0:\n",
    "        print(epoch)"
   ]
  },
  {
   "cell_type": "code",
   "execution_count": 7,
   "metadata": {},
   "outputs": [
    {
     "name": "stdout",
     "output_type": "stream",
     "text": [
      "tensor([[-0.4813, -0.4265, -0.0830,  0.2998,  1.7137, -0.0975, -1.7145,  0.0711,\n",
      "          0.2901,  0.5749, -0.0985, -1.5374,  1.3501,  0.7128, -1.2989, -1.8904,\n",
      "         -0.5634,  2.5485,  0.3694, -0.2581,  0.7689, -1.1553, -0.5662, -1.3081,\n",
      "          0.3625, -0.8950, -0.5461,  0.3160,  0.2465, -0.0082, -1.3402, -1.2443,\n",
      "         -0.9131, -0.6275, -0.4398, -0.3806,  0.5567, -1.3550,  0.1531, -1.0460,\n",
      "          0.6436,  0.4479, -1.2855, -0.5104,  0.5272, -0.2633,  2.7738, -0.5985,\n",
      "          0.9515, -1.5722]], grad_fn=<EmbeddingBackward0>)\n"
     ]
    }
   ],
   "source": [
    "# test the embedding\n",
    "\n",
    "print(model.get_literal_embedding(91))\n",
    "embeddings = model.get_embeddings()\n",
    "# torch.save(embeddings, './embeddings.pt')"
   ]
  },
  {
   "cell_type": "code",
   "execution_count": 8,
   "metadata": {},
   "outputs": [
    {
     "data": {
      "text/plain": [
       "tensor([-0.4813, -0.4265, -0.0830,  0.2998,  1.7137, -0.0975, -1.7145,  0.0711,\n",
       "         0.2901,  0.5749, -0.0985, -1.5374,  1.3501,  0.7128, -1.2989, -1.8904,\n",
       "        -0.5634,  2.5485,  0.3694, -0.2581,  0.7689, -1.1553, -0.5662, -1.3081,\n",
       "         0.3625, -0.8950, -0.5461,  0.3160,  0.2465, -0.0082, -1.3402, -1.2443,\n",
       "        -0.9131, -0.6275, -0.4398, -0.3806,  0.5567, -1.3550,  0.1531, -1.0460,\n",
       "         0.6436,  0.4479, -1.2855, -0.5104,  0.5272, -0.2633,  2.7738, -0.5985,\n",
       "         0.9515, -1.5722], grad_fn=<SelectBackward0>)"
      ]
     },
     "execution_count": 8,
     "metadata": {},
     "output_type": "execute_result"
    }
   ],
   "source": [
    "embeddings[180]"
   ]
  }
 ],
 "metadata": {
  "kernelspec": {
   "display_name": "Python 3.9.12 ('base')",
   "language": "python",
   "name": "python3"
  },
  "language_info": {
   "codemirror_mode": {
    "name": "ipython",
    "version": 3
   },
   "file_extension": ".py",
   "mimetype": "text/x-python",
   "name": "python",
   "nbconvert_exporter": "python",
   "pygments_lexer": "ipython3",
   "version": "3.9.12 (main, Jun  1 2022, 06:34:44) \n[Clang 12.0.0 ]"
  },
  "orig_nbformat": 4,
  "vscode": {
   "interpreter": {
    "hash": "7df9adec5398d45472c8bf81047aa2ae699f575f599903d765e95bf4a199fe03"
   }
  }
 },
 "nbformat": 4,
 "nbformat_minor": 2
}
