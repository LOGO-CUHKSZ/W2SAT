{
 "cells": [
  {
   "cell_type": "code",
   "execution_count": 1,
   "metadata": {},
   "outputs": [],
   "source": [
    "import itertools as it\n",
    "import time\n",
    "from utils import *\n",
    "from pysat.solvers import Glucose3\n",
    "\n",
    "import numpy as np\n",
    "from scipy import sparse\n",
    "\n",
    "import torch\n",
    "import torch.nn.functional as F\n",
    "from torch_geometric.nn import GCNConv\n",
    "# from torch_geometric.nn import GATConv\n",
    "from torch_geometric.data import Data"
   ]
  },
  {
   "cell_type": "code",
   "execution_count": 2,
   "metadata": {},
   "outputs": [],
   "source": [
    "class GCN(torch.nn.Module):\n",
    "    def __init__(self, node_features):\n",
    "        super().__init__()\n",
    "        # GCN initialization\n",
    "        self.conv1 = GCNConv(node_features, 128)\n",
    "        self.conv2 = GCNConv(128, 128)\n",
    "        # self.conv1 = GATConv(node_features, 64, 5)\n",
    "        # self.conv2 = GATConv(64 * 5, 128)\n",
    "        # self.conv3 = GCNConv(128, 128)\n",
    "\n",
    "    def forward(self, data):\n",
    "        x, edge_index = data.x, data.edge_index\n",
    "        x = self.conv1(x, edge_index)\n",
    "        x = F.relu(x)\n",
    "        # x = F.elu(x)\n",
    "        # x = F.dropout(x, training=self.training)\n",
    "        x = self.conv2(x, edge_index)\n",
    "        # x = F.tanh(x)\n",
    "        # x = self.conv3(x, edge_index)\n",
    "\n",
    "        return x\n"
   ]
  },
  {
   "cell_type": "code",
   "execution_count": 3,
   "metadata": {},
   "outputs": [
    {
     "name": "stdout",
     "output_type": "stream",
     "text": [
      "torch.Size([2, 14472])\n"
     ]
    }
   ],
   "source": [
    "sat_name = 'mrpp_4x4#4_5.processed.cnf'\n",
    "# sat_name = 'countbitsrotate016.processed.cnf'\n",
    "\n",
    "sat_path = f'./dataset/formulas/{sat_name}'\n",
    "num_vars, num_clauses, sat_instance = read_sat(sat_path)\n",
    "max_len = max([len(clause) for clause in sat_instance])\n",
    "\n",
    "lig_adjacency_matrix, lig_weighted_adjacency_matrix = sat_to_lig_adjacency_matrix(sat_instance, num_vars)\n",
    "\n",
    "\n",
    "\n",
    "\n",
    "\n",
    "# graph = nx.from_numpy_matrix(lig_adjacency_matrix)\n",
    "# edges = nx.to_edgelist(graph)\n",
    "# print(lig_adjacency_matrix.nonzero())\n",
    "\n",
    "edge_index = torch.tensor(np.array(lig_adjacency_matrix.nonzero()), dtype=torch.long)\n",
    "print(edge_index.shape)\n",
    "edge_value = lig_weighted_adjacency_matrix[lig_adjacency_matrix.nonzero()]\n",
    "\n",
    "embeddings = torch.load(f'./model/embeddings/{sat_name}.pt')\n",
    "embeddings.requires_grad = False\n",
    "# print(embeddings)\n",
    "x = embeddings\n",
    "data = Data(x=x, edge_index=edge_index)\n"
   ]
  },
  {
   "cell_type": "code",
   "execution_count": 4,
   "metadata": {},
   "outputs": [
    {
     "name": "stdout",
     "output_type": "stream",
     "text": [
      "edge_value: [1. 1. 1. ... 2. 3. 2.]\n",
      "score: tensor([1.5412, 0.8578, 0.8736,  ..., 2.2472, 1.7543, 1.1899])\n",
      "min score: -1.7567486763000488\n",
      "max score: 22.947275161743164\n"
     ]
    }
   ],
   "source": [
    "# training\n",
    "model = GCN(50)\n",
    "optimizer = torch.optim.Adam(model.parameters(), lr=0.01, weight_decay=5e-4)\n",
    "model.train()\n",
    "for epoch in range(500):\n",
    "    optimizer.zero_grad()\n",
    "    out = model(data)\n",
    "    src, dst = edge_index\n",
    "    score = (out[src] * out[dst]).sum(dim=-1)\n",
    "    # score = torch.sigmoid(score)\n",
    "    loss = F.mse_loss(score, torch.tensor(edge_value, dtype=torch.float))\n",
    "    loss.backward()\n",
    "    optimizer.step()\n",
    "    # print(f'epoch: {epoch}, loss: {loss.item()}')\n",
    "\n",
    "out = model(data)\n",
    "src, dst = edge_index\n",
    "score = (out[src] * out[dst]).sum(dim=-1)\n",
    "# print(min(score))\n",
    "# score = torch.sigmoid(score)\n",
    "print(f\"edge_value: {edge_value}\")\n",
    "print(f\"score: {score.detach()}\")\n",
    "print(f\"min score: {min(score)}\")\n",
    "print(f\"max score: {max(score)}\")"
   ]
  },
  {
   "cell_type": "code",
   "execution_count": 5,
   "metadata": {},
   "outputs": [
    {
     "name": "stdout",
     "output_type": "stream",
     "text": [
      "Step:  10/400 Loss: 4.76438 Edge-Overlap: 0.385 Total-Time: 0\n",
      "Step:  20/400 Loss: 4.07841 Edge-Overlap: 0.595 Total-Time: 0\n",
      "Step:  30/400 Loss: 3.81889 Edge-Overlap: 0.641 Total-Time: 0\n",
      "Step:  40/400 Loss: 3.68922 Edge-Overlap: 0.697 Total-Time: 0\n",
      "Step:  50/400 Loss: 3.61537 Edge-Overlap: 0.730 Total-Time: 1\n",
      "Step:  60/400 Loss: 3.56892 Edge-Overlap: 0.755 Total-Time: 1\n",
      "Step:  70/400 Loss: 3.53666 Edge-Overlap: 0.777 Total-Time: 1\n",
      "Step:  80/400 Loss: 3.51322 Edge-Overlap: 0.787 Total-Time: 1\n",
      "Step:  90/400 Loss: 3.49563 Edge-Overlap: 0.802 Total-Time: 2\n"
     ]
    }
   ],
   "source": [
    "# CELL\n",
    "import warnings\n",
    "warnings.filterwarnings('ignore')\n",
    "\n",
    "import pickle\n",
    "import numpy as np\n",
    "import scipy.sparse as sp\n",
    "from scipy.sparse import load_npz\n",
    "\n",
    "import torch\n",
    "\n",
    "from cell.utils import link_prediction_performance\n",
    "from cell.cell import Cell, EdgeOverlapCriterion, LinkPredictionCriterion\n",
    "from cell.graph_statistics import compute_graph_statistics\n",
    "\n",
    "\n",
    "sparse_matrix = sparse.csr_matrix(lig_adjacency_matrix)\n",
    "cell_model = Cell(A=sparse_matrix,\n",
    "             H=12,\n",
    "             callbacks=[EdgeOverlapCriterion(invoke_every=10, edge_overlap_limit=.80)])\n",
    "\n",
    "\n",
    "cell_model.train(steps=400,\n",
    "            optimizer_fn=torch.optim.Adam,\n",
    "            optimizer_args={'lr': 0.1,\n",
    "                            'weight_decay': 1e-7})\n"
   ]
  },
  {
   "cell_type": "code",
   "execution_count": 6,
   "metadata": {},
   "outputs": [
    {
     "name": "stdout",
     "output_type": "stream",
     "text": [
      "14272\n",
      "min: 1, max: 6\n",
      "the clique numbers: 43334\n"
     ]
    }
   ],
   "source": [
    "from utils import *\n",
    "\n",
    "generated_graph = cell_model.sample_graph()\n",
    "# k = 1.5\n",
    "# generated_graph = cell_model.sample_graph_prime(k)\n",
    "graph_prime = generated_graph.A\n",
    "graph_prime = graph_post_process(graph_prime)\n",
    "# print('here is graph_prime')\n",
    "# print(graph_prime[graph_prime < 0])\n",
    "# print(len(graph_prime))\n",
    "# print(graph_prime)\n",
    "# print(graph_prime[[0, 1, 2], [0, 0, 0]])\n",
    "\n",
    "edge_index_prime = torch.tensor(graph_prime.nonzero(), dtype=torch.long)\n",
    "x = embeddings\n",
    "data_prime = Data(x=x, edge_index = edge_index_prime)\n",
    "out = model(data_prime)\n",
    "src, dst = edge_index_prime\n",
    "score = (out[src] * out[dst]).sum(dim=-1)\n",
    "weight = score.detach().numpy()\n",
    "weight[weight <= 1] = 1\n",
    "weight = np.rint(weight).astype(int)\n",
    "\n",
    "def get_clique_candidates(lig_adjacency_matrix, k, l):\n",
    "    graph = nx.from_numpy_matrix(lig_adjacency_matrix)\n",
    "    cliques = nx.enumerate_all_cliques(graph)\n",
    "    clique_candidates = []\n",
    "    for clique in cliques:\n",
    "        if len(clique) <= l:\n",
    "            if len(clique) > k:\n",
    "                clique_candidates.append(clique)\n",
    "        else:\n",
    "            break\n",
    "    return clique_candidates\n",
    "\n",
    "\n",
    "weighted_graph_prime = np.copy(graph_prime)\n",
    "weighted_graph_prime[weighted_graph_prime.nonzero()] = weight\n",
    "# lig_adjacency_matrix, lig_weighted_adjacency_matrix = sat_to_lig_adjacency_matrix(sat_instance, num_vars)\n",
    "\n",
    "min_len = 1\n",
    "clique_candidates = get_clique_candidates(graph_prime, min_len, max_len)\n",
    "current_cliques = lazy_clique_edge_cover(np.copy(weighted_graph_prime), clique_candidates, int(num_clauses/1.5))\n",
    "current_sat = cliques_to_sat(current_cliques)\n",
    "\n",
    "\n",
    "# g = Glucose3(bootstrap_with=current_sat)\n",
    "# g = Glucose3(bootstrap_with=sat_instance)\n",
    "# %time print(g.solve())"
   ]
  },
  {
   "cell_type": "code",
   "execution_count": 7,
   "metadata": {},
   "outputs": [
    {
     "name": "stdout",
     "output_type": "stream",
     "text": [
      "clu. VIG: 0.4280694367530436\n",
      "clu. LIG: 0.36201876409034894\n",
      "mod. VIG: 0.4777515956333705\n",
      "mod. LIG: 0.5460365994746994\n",
      "mod. VCG: 0.7135670025622237\n",
      "mod. LCG: 0.5524001227330368\n"
     ]
    }
   ],
   "source": [
    "features = [\n",
    "        \"clu. VIG\",\n",
    "        \"clu. LIG\",\n",
    "        \"mod. VIG\",\n",
    "        \"mod. LIG\",\n",
    "        \"mod. VCG\",\n",
    "        \"mod. LCG\"\n",
    "]\n",
    "\n",
    "metrics = eval_solution(current_sat, num_vars)\n",
    "for feature, value in zip(features, metrics):\n",
    "    print(f'{feature}: {value}')"
   ]
  },
  {
   "cell_type": "code",
   "execution_count": 8,
   "metadata": {},
   "outputs": [
    {
     "name": "stdout",
     "output_type": "stream",
     "text": [
      "clu. VIG: 0.42752696354194286\n",
      "clu. LIG: 0.3572546639124413\n",
      "mod. VIG: 0.46900072424557754\n",
      "mod. LIG: 0.5287190170088076\n",
      "mod. VCG: 0.7828018018689825\n",
      "mod. LCG: 0.7211265321275283\n"
     ]
    }
   ],
   "source": [
    "metrics = eval_solution(sat_instance, num_vars)\n",
    "for feature, value in zip(features, metrics):\n",
    "    print(f'{feature}: {value}')"
   ]
  },
  {
   "cell_type": "code",
   "execution_count": 9,
   "metadata": {},
   "outputs": [],
   "source": [
    "# init_lig = lig_adjacency_matrix\n",
    "# generate_lig = graph_prime\n",
    "# init_wlig = lig_weighted_adjacency_matrix\n",
    "# generate_wlig = weighted_graph_prime\n",
    "# formulas_lig, formulas_wlig = sat_to_lig_adjacency_matrix(current_sat, num_vars)\n",
    "\n"
   ]
  },
  {
   "cell_type": "code",
   "execution_count": 10,
   "metadata": {},
   "outputs": [],
   "source": [
    "# import csv\n",
    "\n",
    "# graphs = [init_lig, generate_lig, init_wlig, generate_wlig, formulas_wlig]\n",
    "# graph_names = ['init_lig', 'generate_lig', 'init_wlig', 'generate_wlig', 'formulas_wlig']\n",
    "\n",
    "# fileds = ['Source','Target','Type','Kind','Id','Label','Weight']\n",
    "# with open('ssa2670-141-all-1.csv', 'w') as csvfile:\n",
    "#     csvwriter = csv.writer(csvfile, delimiter=',')\n",
    "#     csvwriter.writerow(fileds)\n",
    "#     idx = 1\n",
    "#     for graph_name, graph in zip(graph_names, graphs):\n",
    "#         triu_adjacency_matrix = np.triu(graph)\n",
    "#         x, y = triu_adjacency_matrix.nonzero()\n",
    "#         for i, j in zip(x, y):\n",
    "#             csvwriter.writerow([i, j, 'Undirected', graph_name, idx, graph_name, triu_adjacency_matrix[i][j]])\n",
    "#             idx += 1\n",
    "    "
   ]
  },
  {
   "cell_type": "code",
   "execution_count": 11,
   "metadata": {},
   "outputs": [],
   "source": [
    "# generate_num = 50\n",
    "\n",
    "# start_time = time.time()\n",
    "# for idx in range(generate_num):\n",
    "#     # print(idx)\n",
    "#     generated_graph = cell_model.sample_graph()\n",
    "#     graph_prime = generated_graph.A\n",
    "#     graph_prime = graph_post_process(graph_prime)\n",
    "#     # print(len(graph_prime))\n",
    "#     # print(graph_prime)\n",
    "#     # print(graph_prime[[0, 1, 2], [0, 0, 0]])\n",
    "\n",
    "#     edge_index_prime = torch.tensor(graph_prime.nonzero(), dtype=torch.long)\n",
    "#     data_prime = Data(x=x, edge_index = edge_index_prime)\n",
    "#     out = model(data_prime)\n",
    "#     src, dst = edge_index_prime\n",
    "#     score = (out[src] * out[dst]).sum(dim=-1)\n",
    "#     weight = score.detach().numpy()\n",
    "#     weight[weight <= 1] = 1\n",
    "#     weight = np.rint(weight).astype(int)\n",
    "#     # print(f'histogram of inference weight: {np.histogram(weight, bins=[1, 2, 3, 4, 5, 6, 7])}')\n",
    "#     # plt.hist(weight, bins=[1, 2, 3, 4, 5, 6, 7])\n",
    "\n",
    "#     weighted_graph_prime = graph_prime\n",
    "#     weighted_graph_prime[weighted_graph_prime.nonzero()] = weight\n",
    "#     # lig_adjacency_matrix, lig_weighted_adjacency_matrix = sat_to_lig_adjacency_matrix(sat_instance, num_vars)\n",
    "#     max_len = 8\n",
    "#     clique_candidates = get_clique_candidates(graph_prime, max_len)\n",
    "#     num_clauses = 377\n",
    "#     num_vars = 91\n",
    "#     # print(weighted_graph_prime.shape)\n",
    "#     current_clique_idxs = lazy_clique_edge_cover(weighted_graph_prime, clique_candidates, num_clauses, num_vars)\n",
    "#     current_cliques = [clique_candidates[idx] for idx in current_clique_idxs]\n",
    "#     current_sat = cliques_to_sat(current_cliques)\n",
    "\n",
    "#     path = f\"./eval_formulas/ssa2670-141/generating-sat-{idx}.cnf\"\n",
    "#     with open(path, 'w') as f:\n",
    "#         f.write('p cnf 91 377\\n')\n",
    "#         for clause in current_sat:\n",
    "#             f.write(f\"{' '.join([str(v) for v in clause])} 0\\n\")\n",
    "\n",
    "# print(f'generating {generate_num} instances with time {time.time() - start_time}')"
   ]
  },
  {
   "attachments": {},
   "cell_type": "markdown",
   "metadata": {},
   "source": [
    "# Todo\n",
    "\n",
    "- Optimize the optimal weighted coverage (OWC) algorithm\n",
    "- Generate more graph for the ssa2670, compute the average metric\n",
    "- Test the method on more instances\n",
    "- *Test the solver performance*"
   ]
  }
 ],
 "metadata": {
  "kernelspec": {
   "display_name": "base",
   "language": "python",
   "name": "python3"
  },
  "language_info": {
   "codemirror_mode": {
    "name": "ipython",
    "version": 3
   },
   "file_extension": ".py",
   "mimetype": "text/x-python",
   "name": "python",
   "nbconvert_exporter": "python",
   "pygments_lexer": "ipython3",
   "version": "3.9.12"
  },
  "orig_nbformat": 4,
  "vscode": {
   "interpreter": {
    "hash": "7df9adec5398d45472c8bf81047aa2ae699f575f599903d765e95bf4a199fe03"
   }
  }
 },
 "nbformat": 4,
 "nbformat_minor": 2
}
