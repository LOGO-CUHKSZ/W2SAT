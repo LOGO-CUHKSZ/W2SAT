{
 "cells": [
  {
   "cell_type": "code",
   "execution_count": 1,
   "metadata": {},
   "outputs": [],
   "source": [
    "import itertools as it\n",
    "import time\n",
    "from utils import *\n",
    "# from pysat.solvers import Glucose3\n",
    "\n",
    "import numpy as np\n",
    "from scipy import sparse\n",
    "\n",
    "import torch\n",
    "import torch.nn.functional as F\n",
    "from torch_geometric.nn import GCNConv\n",
    "from torch_geometric.data import Data"
   ]
  },
  {
   "cell_type": "code",
   "execution_count": 2,
   "metadata": {},
   "outputs": [],
   "source": [
    "# CELL\n",
    "import warnings\n",
    "warnings.filterwarnings('ignore')\n",
    "\n",
    "import pickle\n",
    "import numpy as np\n",
    "import scipy.sparse as sp\n",
    "from scipy.sparse import load_npz\n",
    "\n",
    "import torch\n",
    "\n",
    "from cell.utils import link_prediction_performance\n",
    "from cell.cell import Cell, EdgeOverlapCriterion, LinkPredictionCriterion\n",
    "from cell.graph_statistics import compute_graph_statistics\n"
   ]
  },
  {
   "cell_type": "code",
   "execution_count": null,
   "metadata": {},
   "outputs": [],
   "source": [
    "class GCN(torch.nn.Module):\n",
    "    def __init__(self, node_features):\n",
    "        super().__init__()\n",
    "        # GCN initialization\n",
    "        self.conv1 = GCNConv(node_features, 128)\n",
    "        self.conv2 = GCNConv(128, 128)\n",
    "\n",
    "    def forward(self, data):\n",
    "        x, edge_index = data.x, data.edge_index\n",
    "        x = self.conv1(x, edge_index)\n",
    "        x = F.relu(x)\n",
    "        x = self.conv2(x, edge_index)\n",
    "\n",
    "        return x\n"
   ]
  },
  {
   "cell_type": "code",
   "execution_count": null,
   "metadata": {},
   "outputs": [],
   "source": [
    "sat_name = 'countbitsrotate016.processed.cnf'\n",
    "# sat_name = 'mrpp_4x4#4_5.processed.cnf'\n",
    "# sat_name = 'countbitsrotate016.processed.cnf'\n",
    "\n",
    "sat_path = f'./dataset/formulas/{sat_name}'\n",
    "num_vars, num_clauses, sat_instance = read_sat(sat_path)\n",
    "max_len = max([len(clause) for clause in sat_instance])\n",
    "\n",
    "lig_adjacency_matrix, lig_weighted_adjacency_matrix = sat_to_lig_adjacency_matrix(sat_instance, num_vars)\n",
    "edge_index = torch.tensor(np.array(lig_adjacency_matrix.nonzero()), dtype=torch.long)\n",
    "edge_value = lig_weighted_adjacency_matrix[lig_adjacency_matrix.nonzero()]\n",
    "\n",
    "embeddings = torch.load(f'./model/embeddings/{sat_name}.pt')\n",
    "embeddings.requires_grad = False\n",
    "x = embeddings\n",
    "data = Data(x=x, edge_index=edge_index)\n"
   ]
  },
  {
   "cell_type": "code",
   "execution_count": null,
   "metadata": {},
   "outputs": [],
   "source": [
    "# training for GNN\n",
    "model = GCN(50)\n",
    "optimizer = torch.optim.Adam(model.parameters(), lr=0.01, weight_decay=5e-4)\n",
    "model.train()\n",
    "for epoch in range(500):\n",
    "    optimizer.zero_grad()\n",
    "    out = model(data)\n",
    "    src, dst = edge_index\n",
    "    score = (out[src] * out[dst]).sum(dim=-1)\n",
    "    loss = F.mse_loss(score, torch.tensor(edge_value, dtype=torch.float))\n",
    "    loss.backward()\n",
    "    optimizer.step()\n",
    "    # print(f'epoch: {epoch}, loss: {loss.item()}')\n"
   ]
  },
  {
   "cell_type": "code",
   "execution_count": null,
   "metadata": {},
   "outputs": [],
   "source": [
    "# training for CELL\n",
    "sparse_matrix = sparse.csr_matrix(lig_adjacency_matrix)\n",
    "cell_model = Cell(A=sparse_matrix,\n",
    "             H=10,\n",
    "             callbacks=[EdgeOverlapCriterion(invoke_every=10, edge_overlap_limit=.80)])\n",
    "cell_model.train(steps=400,\n",
    "            optimizer_fn=torch.optim.Adam,\n",
    "            optimizer_args={'lr': 0.1,\n",
    "                            'weight_decay': 1e-7})\n"
   ]
  },
  {
   "cell_type": "code",
   "execution_count": null,
   "metadata": {},
   "outputs": [],
   "source": [
    "# generate WLIG\n",
    "generated_graph = cell_model.sample_graph()\n",
    "graph_prime = generated_graph.A\n",
    "graph_prime = graph_post_process(graph_prime)\n",
    "edge_index_prime = torch.tensor(graph_prime.nonzero(), dtype=torch.long)\n",
    "x = embeddings\n",
    "data_prime = Data(x=x, edge_index = edge_index_prime)\n",
    "out = model(data_prime)\n",
    "src, dst = edge_index_prime\n",
    "score = (out[src] * out[dst]).sum(dim=-1)\n",
    "weight = score.detach().numpy()\n",
    "weight[weight <= 1] = 1\n",
    "weight = np.rint(weight).astype(int)\n",
    "weighted_graph_prime = np.copy(graph_prime)\n",
    "weighted_graph_prime[weighted_graph_prime.nonzero()] = weight\n",
    "\n",
    "# decode formulas from WLIG\n",
    "clique_candidates = get_clique_candidates(graph_prime, max_len)\n",
    "current_cliques = lazy_clique_edge_cover(np.copy(weighted_graph_prime), clique_candidates, int(num_clauses))\n",
    "current_sat = cliques_to_sat(current_cliques)\n",
    "\n",
    "# g = Glucose3(bootstrap_with=current_sat)\n",
    "# g = Glucose3(bootstrap_with=sat_instance)\n",
    "# %time print(g.solve())"
   ]
  },
  {
   "cell_type": "code",
   "execution_count": null,
   "metadata": {},
   "outputs": [],
   "source": [
    "# evaluate the graph metrics for the generation instance\n",
    "features = [\n",
    "        \"clu. VIG\",\n",
    "        \"clu. LIG\",\n",
    "        \"mod. VIG\",\n",
    "        \"mod. LIG\",\n",
    "        \"mod. VCG\",\n",
    "        \"mod. LCG\"\n",
    "]\n",
    "\n",
    "metrics = eval_solution(current_sat, num_vars)\n",
    "for feature, value in zip(features, metrics):\n",
    "    print(f'{feature}: {value}')"
   ]
  },
  {
   "cell_type": "code",
   "execution_count": 3,
   "metadata": {},
   "outputs": [
    {
     "name": "stdout",
     "output_type": "stream",
     "text": [
      "VIG community nums: 16\n",
      "clu. VIG: 0.46914422249080806\n",
      "clu. LIG: 0.42063350479688877\n",
      "mod. VIG: 0.6892512684534159\n",
      "mod. LIG: 0.6820452345002226\n",
      "mod. VCG: 0.8002238046165819\n",
      "mod. LCG: 0.6889236467942943\n"
     ]
    }
   ],
   "source": [
    "# evaluate the graph metrics for the original instance\n",
    "sat_name = 'countbitsrotate016.processed.cnf'\n",
    "sat_path = f'./dataset/formulas/{sat_name}'\n",
    "num_vars, num_clauses, sat_instance = read_sat(sat_path)\n",
    "\n",
    "\n",
    "features = [\n",
    "        \"clu. VIG\",\n",
    "        \"clu. LIG\",\n",
    "        \"mod. VIG\",\n",
    "        \"mod. LIG\",\n",
    "        \"mod. VCG\",\n",
    "        \"mod. LCG\"\n",
    "]\n",
    "\n",
    "metrics = eval_solution(sat_instance, num_vars)\n",
    "for feature, value in zip(features, metrics):\n",
    "    print(f'{feature}: {value}')"
   ]
  },
  {
   "cell_type": "code",
   "execution_count": 5,
   "metadata": {},
   "outputs": [
    {
     "name": "stdout",
     "output_type": "stream",
     "text": [
      "VIG community nums: 16\n",
      "clu. VIG: 0.2650716664418818\n",
      "clu. LIG: 0.174261712021661\n",
      "mod. VIG: 0.6502937136551534\n",
      "mod. LIG: 0.6869201613665731\n",
      "mod. VCG: 0.7583402185268238\n",
      "mod. LCG: 0.565042425820723\n"
     ]
    }
   ],
   "source": [
    "# ca\n",
    "\n",
    "# shell: ca -k 4 -n 1122 -m 4555 -Q 0.695 -c 16 >> ca.cnf\n",
    "\n",
    "sat_path = f'./tools/ca.cnf'\n",
    "num_vars, num_clauses, sat_instance = read_sat(sat_path)\n",
    "\n",
    "# evaluate the graph metrics for the original instance\n",
    "features = [\n",
    "        \"clu. VIG\",\n",
    "        \"clu. LIG\",\n",
    "        \"mod. VIG\",\n",
    "        \"mod. LIG\",\n",
    "        \"mod. VCG\",\n",
    "        \"mod. LCG\"\n",
    "]\n",
    "\n",
    "metrics = eval_solution(sat_instance, num_vars)\n",
    "for feature, value in zip(features, metrics):\n",
    "    print(f'{feature}: {value}')"
   ]
  }
 ],
 "metadata": {
  "kernelspec": {
   "display_name": "base",
   "language": "python",
   "name": "python3"
  },
  "language_info": {
   "codemirror_mode": {
    "name": "ipython",
    "version": 3
   },
   "file_extension": ".py",
   "mimetype": "text/x-python",
   "name": "python",
   "nbconvert_exporter": "python",
   "pygments_lexer": "ipython3",
   "version": "3.9.16"
  },
  "orig_nbformat": 4,
  "vscode": {
   "interpreter": {
    "hash": "7df9adec5398d45472c8bf81047aa2ae699f575f599903d765e95bf4a199fe03"
   }
  }
 },
 "nbformat": 4,
 "nbformat_minor": 2
}
