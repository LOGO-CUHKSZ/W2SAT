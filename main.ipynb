{
 "cells": [
  {
   "cell_type": "code",
   "execution_count": 55,
   "metadata": {},
   "outputs": [],
   "source": [
    "import itertools as it\n",
    "\n",
    "import networkx as nx\n",
    "import numpy as np\n",
    "from scipy import sparse\n",
    "\n",
    "import torch\n",
    "import torch.nn.functional as F\n",
    "from torch_geometric.nn import GCNConv\n",
    "from torch_geometric.data import Data\n"
   ]
  },
  {
   "cell_type": "code",
   "execution_count": 56,
   "metadata": {},
   "outputs": [],
   "source": [
    "class GCN(torch.nn.Module):\n",
    "    def __init__(self, node_features):\n",
    "        super().__init__()\n",
    "        self.conv1 = GCNConv(node_features, 64)\n",
    "        self.conv2 = GCNConv(64, 32)\n",
    "\n",
    "    def forward(self, data):\n",
    "        x, edge_index = data.x, data.edge_index\n",
    "\n",
    "        x = self.conv1(x, edge_index)\n",
    "        x = F.relu(x)\n",
    "        x = self.conv2(x, edge_index)\n",
    "\n",
    "        return x\n"
   ]
  },
  {
   "cell_type": "code",
   "execution_count": 57,
   "metadata": {},
   "outputs": [],
   "source": [
    "# utils \n",
    "\n",
    "def read_sat(sat_path):\n",
    "    with open(sat_path) as f:\n",
    "        sat_lines = f.readlines()\n",
    "        header = sat_lines[0]\n",
    "        header_info = header.replace(\"\\n\", \"\").split(\" \")\n",
    "        num_vars = int(header_info[-2])\n",
    "        num_clauses = int(header_info[-1])\n",
    "\n",
    "        sat = [[int(x) for x in line.replace(' 0\\n', '').split(' ')]\n",
    "               for line in sat_lines[1:]]\n",
    "\n",
    "        return sat, num_vars, num_clauses\n",
    "\n",
    "\n",
    "def sat_to_lig_adjacency_matrix(sat, num_vars):\n",
    "    get_literal_idx = lambda x: 2 * x - 2 if x > 0 else 2 * abs(x) - 1\n",
    "    lig_adjacency_matrix = np.zeros([2*num_vars, 2*num_vars])\n",
    "    lig_weighted_adjacency_matrix = np.zeros([2*num_vars, 2*num_vars])\n",
    "\n",
    "    for clause in sat:\n",
    "        pairs = it.combinations(clause, 2)\n",
    "#         print(f'clause: {clause}')\n",
    "        for pair in pairs:\n",
    "            x_idx = get_literal_idx(pair[0])\n",
    "            y_idx = get_literal_idx(pair[1])\n",
    "#             print(f'pair: {(x_idx, y_idx)}')\n",
    "            lig_adjacency_matrix[x_idx, y_idx] = 1\n",
    "            lig_adjacency_matrix[y_idx, x_idx] = 1\n",
    "            lig_weighted_adjacency_matrix[x_idx, y_idx] += 1\n",
    "            lig_weighted_adjacency_matrix[y_idx, x_idx] += 1    \n",
    "    return lig_adjacency_matrix, lig_weighted_adjacency_matrix"
   ]
  },
  {
   "cell_type": "code",
   "execution_count": 58,
   "metadata": {},
   "outputs": [
    {
     "name": "stdout",
     "output_type": "stream",
     "text": [
      "[6. 6. 1. ... 2. 1. 3.]\n",
      "[1.         1.         0.16666667 ... 0.33333333 0.16666667 0.5       ]\n"
     ]
    }
   ],
   "source": [
    "sat_path = './ssa2670-141.processed.cnf'\n",
    "sat_instance, num_vars, num_clauses = read_sat(sat_path)\n",
    "\n",
    "lig_adjacency_matrix, lig_weighted_adjacency_matrix = sat_to_lig_adjacency_matrix(sat_instance, num_vars)\n",
    "\n",
    "# graph = nx.from_numpy_matrix(lig_adjacency_matrix)\n",
    "# edges = nx.to_edgelist(graph)\n",
    "# print(lig_adjacency_matrix.nonzero())\n",
    "\n",
    "edge_index = torch.tensor(lig_adjacency_matrix.nonzero(), dtype=torch.long)\n",
    "edge_value = lig_weighted_adjacency_matrix[lig_adjacency_matrix.nonzero()]\n",
    "print(edge_value)\n",
    "max_edge_value = max(edge_value)\n",
    "norm_edge_value = edge_value/max_edge_value\n",
    "print(norm_edge_value)\n",
    "embeddings = torch.load('./embeddings.pt')\n",
    "embeddings.requires_grad = False\n",
    "# print(embeddings)\n",
    "x = embeddings\n",
    "\n",
    "data = Data(x=x, edge_index=edge_index)\n"
   ]
  },
  {
   "cell_type": "code",
   "execution_count": 59,
   "metadata": {},
   "outputs": [
    {
     "data": {
      "text/plain": [
       "<182x182 sparse matrix of type '<class 'numpy.float64'>'\n",
       "\twith 2124 stored elements in Compressed Sparse Row format>"
      ]
     },
     "execution_count": 59,
     "metadata": {},
     "output_type": "execute_result"
    }
   ],
   "source": [
    "lig_adjacency_matrix\n",
    "sparse_matrix = sparse.csr_matrix(lig_adjacency_matrix)\n",
    "sparse_matrix"
   ]
  },
  {
   "cell_type": "code",
   "execution_count": 60,
   "metadata": {},
   "outputs": [
    {
     "name": "stdout",
     "output_type": "stream",
     "text": [
      "Step:  10/200 Loss: 3.93387 Edge-Overlap: 0.402 Total-Time: 0\n",
      "Step:  20/200 Loss: 3.36424 Edge-Overlap: 0.546 Total-Time: 0\n"
     ]
    }
   ],
   "source": [
    "# CELL\n",
    "import warnings\n",
    "warnings.filterwarnings('ignore')\n",
    "\n",
    "import pickle\n",
    "import numpy as np\n",
    "import scipy.sparse as sp\n",
    "from scipy.sparse import load_npz\n",
    "\n",
    "import torch\n",
    "\n",
    "from cell.utils import link_prediction_performance\n",
    "from cell.cell import Cell, EdgeOverlapCriterion, LinkPredictionCriterion\n",
    "from cell.graph_statistics import compute_graph_statistics\n",
    "\n",
    "model = Cell(A=sparse_matrix,\n",
    "             H=9,\n",
    "             callbacks=[EdgeOverlapCriterion(invoke_every=10, edge_overlap_limit=.5)])\n",
    "\n",
    "\n",
    "model.train(steps=200,\n",
    "            optimizer_fn=torch.optim.Adam,\n",
    "            optimizer_args={'lr': 0.1,\n",
    "                            'weight_decay': 1e-7})\n"
   ]
  },
  {
   "cell_type": "code",
   "execution_count": 61,
   "metadata": {},
   "outputs": [
    {
     "name": "stdout",
     "output_type": "stream",
     "text": [
      "[[0. 0. 1. ... 0. 0. 0.]\n",
      " [0. 0. 0. ... 0. 0. 0.]\n",
      " [1. 0. 0. ... 0. 0. 0.]\n",
      " ...\n",
      " [0. 0. 0. ... 0. 0. 0.]\n",
      " [0. 0. 0. ... 0. 0. 0.]\n",
      " [0. 0. 0. ... 0. 0. 0.]]\n",
      "(array([  0,   0,   0, ..., 181, 181, 181]), array([  2,  14,  18, ..., 134, 169, 170]))\n"
     ]
    }
   ],
   "source": [
    "generated_graph = model.sample_graph()\n",
    "print(generated_graph.A)\n",
    "print(generated_graph.A.nonzero())\n",
    "# compute_graph_statistics(generated_graph)"
   ]
  },
  {
   "cell_type": "code",
   "execution_count": 62,
   "metadata": {},
   "outputs": [
    {
     "name": "stdout",
     "output_type": "stream",
     "text": [
      "epoch: 0, loss: 0.29498571157455444\n",
      "epoch: 1, loss: 0.14215028285980225\n",
      "epoch: 2, loss: 0.11060117930173874\n",
      "epoch: 3, loss: 0.1124689131975174\n",
      "epoch: 4, loss: 0.11748021841049194\n",
      "epoch: 5, loss: 0.11742106080055237\n",
      "epoch: 6, loss: 0.11301187425851822\n",
      "epoch: 7, loss: 0.10726536065340042\n",
      "epoch: 8, loss: 0.10215672105550766\n",
      "epoch: 9, loss: 0.09826977550983429\n",
      "epoch: 10, loss: 0.09558629989624023\n",
      "epoch: 11, loss: 0.09383457899093628\n",
      "epoch: 12, loss: 0.09270072728395462\n",
      "epoch: 13, loss: 0.0919472724199295\n",
      "epoch: 14, loss: 0.09142032265663147\n",
      "epoch: 15, loss: 0.0910167470574379\n",
      "epoch: 16, loss: 0.09069794416427612\n",
      "epoch: 17, loss: 0.09044041484594345\n",
      "epoch: 18, loss: 0.09022955596446991\n",
      "epoch: 19, loss: 0.09005921334028244\n"
     ]
    }
   ],
   "source": [
    "# training\n",
    "model = GCN(50)\n",
    "optimizer = torch.optim.Adam(model.parameters(), lr=0.01, weight_decay=5e-4)\n",
    "# print(norm_edge_value)\n",
    "model.train()\n",
    "for epoch in range(20):\n",
    "    optimizer.zero_grad()\n",
    "    out = model(data)\n",
    "    src, dst = edge_index\n",
    "    score = (out[src] * out[dst]).sum(dim=-1)\n",
    "    score = torch.sigmoid(score)\n",
    "    loss = F.mse_loss(score, torch.tensor(norm_edge_value, dtype=torch.float))\n",
    "    print(f'epoch: {epoch}, loss: {loss.item()}')\n",
    "    loss.backward()\n",
    "    optimizer.step()\n"
   ]
  },
  {
   "cell_type": "code",
   "execution_count": 67,
   "metadata": {},
   "outputs": [
    {
     "name": "stdout",
     "output_type": "stream",
     "text": [
      "tensor(0.0586, grad_fn=<UnbindBackward0>)\n"
     ]
    }
   ],
   "source": [
    "out = model(data)\n",
    "src, dst = edge_index\n",
    "score = (out[src] * out[dst]).sum(dim=-1)\n",
    "print(max(score))"
   ]
  },
  {
   "cell_type": "code",
   "execution_count": 66,
   "metadata": {},
   "outputs": [
    {
     "name": "stdout",
     "output_type": "stream",
     "text": [
      "torch.Size([2, 2124])\n",
      "tensor([[ 0.0053, -0.0137, -0.0285,  ...,  0.0019,  0.0034,  0.0080],\n",
      "        [ 0.0302,  0.0202,  0.0091,  ...,  0.0299, -0.0138,  0.0040],\n",
      "        [-0.0145, -0.0196,  0.0104,  ..., -0.0133, -0.0064, -0.0068],\n",
      "        ...,\n",
      "        [-0.0074,  0.0216, -0.0311,  ...,  0.0071,  0.0219,  0.0137],\n",
      "        [ 0.0012,  0.0150,  0.0023,  ...,  0.0222,  0.0061, -0.0085],\n",
      "        [-0.0163,  0.0131,  0.0322,  ...,  0.0327, -0.0088, -0.0250]],\n",
      "       grad_fn=<AddBackward0>)\n",
      "tensor(0.0667, grad_fn=<UnbindBackward0>)\n"
     ]
    }
   ],
   "source": [
    "graph_prime = generated_graph.A\n",
    "edge_index_prime = torch.tensor(graph_prime.nonzero(), dtype=torch.long)\n",
    "print(edge_index_prime.size())\n",
    "data_prime = Data(x=x, edge_index = edge_index_prime)\n",
    "out = model(data_prime)\n",
    "print(out)\n",
    "src, dst = edge_index_prime\n",
    "score = (out[src] * out[dst]).sum(dim=-1)\n",
    "print(max(score))\n",
    "score = torch.sigmoid(score)\n"
   ]
  },
  {
   "cell_type": "code",
   "execution_count": 65,
   "metadata": {},
   "outputs": [
    {
     "name": "stdout",
     "output_type": "stream",
     "text": [
      "tensor([0.5009, 0.5008, 0.5014,  ..., 0.5033, 0.5044, 0.5025],\n",
      "       grad_fn=<SigmoidBackward0>)\n"
     ]
    }
   ],
   "source": [
    "print(score)"
   ]
  }
 ],
 "metadata": {
  "kernelspec": {
   "display_name": "base",
   "language": "python",
   "name": "python3"
  },
  "language_info": {
   "codemirror_mode": {
    "name": "ipython",
    "version": 3
   },
   "file_extension": ".py",
   "mimetype": "text/x-python",
   "name": "python",
   "nbconvert_exporter": "python",
   "pygments_lexer": "ipython3",
   "version": "3.9.12"
  },
  "orig_nbformat": 4,
  "vscode": {
   "interpreter": {
    "hash": "7df9adec5398d45472c8bf81047aa2ae699f575f599903d765e95bf4a199fe03"
   }
  }
 },
 "nbformat": 4,
 "nbformat_minor": 2
}
