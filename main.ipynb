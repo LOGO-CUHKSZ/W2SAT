{
 "cells": [
  {
   "cell_type": "code",
   "execution_count": 1,
   "metadata": {},
   "outputs": [],
   "source": [
    "import itertools as it\n",
    "import time\n",
    "from utils import *\n",
    "\n",
    "import numpy as np\n",
    "from scipy import sparse\n",
    "\n",
    "import torch\n",
    "import torch.nn.functional as F\n",
    "from torch_geometric.nn import GCNConv\n",
    "from torch_geometric.nn import GATConv\n",
    "from torch_geometric.data import Data\n",
    "\n",
    "import matplotlib.pyplot as plt\n"
   ]
  },
  {
   "cell_type": "code",
   "execution_count": 2,
   "metadata": {},
   "outputs": [],
   "source": [
    "class GCN(torch.nn.Module):\n",
    "    def __init__(self, node_features):\n",
    "        super().__init__()\n",
    "        # GCN initialization\n",
    "        self.conv1 = GCNConv(node_features, 64)\n",
    "        self.conv2 = GCNConv(64, 128)\n",
    "        # self.conv1 = GATConv(node_features, 64, 5)\n",
    "        # self.conv2 = GATConv(64 * 5, 128)\n",
    "        # self.conv3 = GCNConv(128, 128)\n",
    "\n",
    "    def forward(self, data):\n",
    "        x, edge_index = data.x, data.edge_index\n",
    "        x = self.conv1(x, edge_index)\n",
    "        x = F.relu(x)\n",
    "        # x = F.elu(x)\n",
    "        # x = F.dropout(x, training=self.training)\n",
    "        x = self.conv2(x, edge_index)\n",
    "        # x = F.tanh(x)\n",
    "        # x = self.conv3(x, edge_index)\n",
    "        # x1^T * W * x2\n",
    "\n",
    "        return x\n"
   ]
  },
  {
   "cell_type": "code",
   "execution_count": 3,
   "metadata": {},
   "outputs": [
    {
     "name": "stdout",
     "output_type": "stream",
     "text": [
      "(array([  0,   0,   0, ..., 181, 181, 181]), array([  2,   4,  14, ..., 135, 169, 178]))\n",
      "tensor([[  0,   0,   0,  ..., 181, 181, 181],\n",
      "        [  2,   4,  14,  ..., 135, 169, 178]])\n",
      "[6. 6. 1. ... 2. 1. 3.]\n",
      "histogram of original weight: (array([1516,  440,   80,   60,   14,   14]), array([1, 2, 3, 4, 5, 6, 7]))\n"
     ]
    },
    {
     "name": "stderr",
     "output_type": "stream",
     "text": [
      "/var/folders/qz/6jw6ywgd3bvdbjspv5vl39nm0000gn/T/ipykernel_96518/2491345088.py:12: UserWarning: Creating a tensor from a list of numpy.ndarrays is extremely slow. Please consider converting the list to a single numpy.ndarray with numpy.array() before converting to a tensor. (Triggered internally at  /private/var/folders/nz/j6p8yfhx1mv_0grj5xl4650h0000gp/T/abs_croot-4qf3nw4h/pytorch_1648016051178/work/torch/csrc/utils/tensor_new.cpp:201.)\n",
      "  edge_index = torch.tensor(lig_adjacency_matrix.nonzero(), dtype=torch.long)\n"
     ]
    },
    {
     "data": {
      "image/png": "[encoded data removed]",
      "text/plain": [
       "<Figure size 432x288 with 1 Axes>"
      ]
     },
     "metadata": {
      "needs_background": "light"
     },
     "output_type": "display_data"
    },
    {
     "name": "stdout",
     "output_type": "stream",
     "text": [
      "[6. 6. 1. ... 2. 1. 3.]\n"
     ]
    }
   ],
   "source": [
    "sat_path = './ssa2670-141.processed.cnf'\n",
    "num_vars, num_clauses, sat_instance = read_sat(sat_path)\n",
    "\n",
    "lig_adjacency_matrix, lig_weighted_adjacency_matrix = sat_to_lig_adjacency_matrix(sat_instance, num_vars)\n",
    "print(lig_adjacency_matrix.nonzero())\n",
    "\n",
    "\n",
    "# graph = nx.from_numpy_matrix(lig_adjacency_matrix)\n",
    "# edges = nx.to_edgelist(graph)\n",
    "# print(lig_adjacency_matrix.nonzero())\n",
    "\n",
    "edge_index = torch.tensor(lig_adjacency_matrix.nonzero(), dtype=torch.long)\n",
    "print(edge_index)\n",
    "edge_value = lig_weighted_adjacency_matrix[lig_adjacency_matrix.nonzero()]\n",
    "print(edge_value)\n",
    "print(f'histogram of original weight: {np.histogram(edge_value, bins=[1, 2, 3, 4, 5, 6, 7])}')\n",
    "plt.hist(edge_value, bins=[1, 2, 3, 4, 5, 6, 7])\n",
    "plt.show()\n",
    "# max_edge_value = max(edge_value)\n",
    "# norm_edge_value = edge_value/max_edge_value\n",
    "norm_edge_value = edge_value\n",
    "print(norm_edge_value)\n",
    "\n",
    "embeddings = torch.load('./embeddings.pt')\n",
    "embeddings.requires_grad = False\n",
    "# print(embeddings)\n",
    "x = embeddings\n",
    "data = Data(x=x, edge_index=edge_index)\n"
   ]
  },
  {
   "cell_type": "code",
   "execution_count": 4,
   "metadata": {},
   "outputs": [
    {
     "name": "stdout",
     "output_type": "stream",
     "text": [
      "norm_edge_value: [6. 6. 1. ... 2. 1. 3.]\n",
      "score: tensor([4.5785, 5.5354, 0.4979,  ..., 1.8458, 2.1500, 2.9142])\n",
      "min score: 0.3141999840736389\n",
      "max score: 5.535421848297119\n"
     ]
    }
   ],
   "source": [
    "# training\n",
    "model = GCN(50)\n",
    "optimizer = torch.optim.Adam(model.parameters(), lr=0.01, weight_decay=5e-4)\n",
    "model.train()\n",
    "for epoch in range(200):\n",
    "    optimizer.zero_grad()\n",
    "    out = model(data)\n",
    "    src, dst = edge_index\n",
    "    score = (out[src] * out[dst]).sum(dim=-1)\n",
    "    # score = torch.sigmoid(score)\n",
    "    loss = F.mse_loss(score, torch.tensor(norm_edge_value, dtype=torch.float))\n",
    "    loss.backward()\n",
    "    optimizer.step()\n",
    "    # print(f'epoch: {epoch}, loss: {loss.item()}')\n",
    "\n",
    "out = model(data)\n",
    "src, dst = edge_index\n",
    "score = (out[src] * out[dst]).sum(dim=-1)\n",
    "# print(min(score))\n",
    "# score = torch.sigmoid(score)\n",
    "print(f\"norm_edge_value: {norm_edge_value}\")\n",
    "print(f\"score: {score.detach()}\")\n",
    "print(f\"min score: {min(score)}\")\n",
    "print(f\"max score: {max(score)}\")"
   ]
  },
  {
   "cell_type": "code",
   "execution_count": 16,
   "metadata": {},
   "outputs": [
    {
     "name": "stdout",
     "output_type": "stream",
     "text": [
      "Step:  10/200 Loss: 3.92292 Edge-Overlap: 0.407 Total-Time: 0\n",
      "Step:  20/200 Loss: 3.30754 Edge-Overlap: 0.594 Total-Time: 0\n",
      "Step:  30/200 Loss: 3.05353 Edge-Overlap: 0.653 Total-Time: 0\n",
      "Step:  40/200 Loss: 2.91732 Edge-Overlap: 0.716 Total-Time: 0\n"
     ]
    }
   ],
   "source": [
    "# CELL\n",
    "import warnings\n",
    "warnings.filterwarnings('ignore')\n",
    "\n",
    "import pickle\n",
    "import numpy as np\n",
    "import scipy.sparse as sp\n",
    "from scipy.sparse import load_npz\n",
    "\n",
    "import torch\n",
    "\n",
    "from cell.utils import link_prediction_performance\n",
    "from cell.cell import Cell, EdgeOverlapCriterion, LinkPredictionCriterion\n",
    "from cell.graph_statistics import compute_graph_statistics\n",
    "\n",
    "\n",
    "sparse_matrix = sparse.csr_matrix(lig_adjacency_matrix)\n",
    "cell_model = Cell(A=sparse_matrix,\n",
    "             H=10,\n",
    "             callbacks=[EdgeOverlapCriterion(invoke_every=10, edge_overlap_limit=.7)])\n",
    "\n",
    "\n",
    "cell_model.train(steps=200,\n",
    "            optimizer_fn=torch.optim.Adam,\n",
    "            optimizer_args={'lr': 0.1,\n",
    "                            'weight_decay': 1e-7})\n"
   ]
  },
  {
   "cell_type": "code",
   "execution_count": 17,
   "metadata": {},
   "outputs": [
    {
     "name": "stdout",
     "output_type": "stream",
     "text": [
      "(182, 182)\n"
     ]
    }
   ],
   "source": [
    "generated_graph = cell_model.sample_graph()\n",
    "graph_prime = generated_graph.A\n",
    "graph_prime = graph_post_process(graph_prime)\n",
    "# print(len(graph_prime))\n",
    "# print(graph_prime)\n",
    "# print(graph_prime[[0, 1, 2], [0, 0, 0]])\n",
    "\n",
    "edge_index_prime = torch.tensor(graph_prime.nonzero(), dtype=torch.long)\n",
    "data_prime = Data(x=x, edge_index = edge_index_prime)\n",
    "out = model(data_prime)\n",
    "src, dst = edge_index_prime\n",
    "score = (out[src] * out[dst]).sum(dim=-1)\n",
    "weight = score.detach().numpy()\n",
    "weight[weight <= 1] = 1\n",
    "weight = np.rint(weight).astype(int)\n",
    "# print(f'histogram of inference weight: {np.histogram(weight, bins=[1, 2, 3, 4, 5, 6, 7])}')\n",
    "# plt.hist(weight, bins=[1, 2, 3, 4, 5, 6, 7])\n",
    "\n",
    "weighted_graph_prime = graph_prime\n",
    "weighted_graph_prime[weighted_graph_prime.nonzero()] = weight\n",
    "# lig_adjacency_matrix, lig_weighted_adjacency_matrix = sat_to_lig_adjacency_matrix(sat_instance, num_vars)\n",
    "max_len = 8\n",
    "clique_candidates = get_clique_candidates(graph_prime, max_len)\n",
    "num_clauses = 377\n",
    "num_vars = 91\n",
    "print(weighted_graph_prime.shape)\n",
    "current_clique_idxs = lazy_clique_edge_cover(weighted_graph_prime, clique_candidates, num_clauses, num_vars)\n",
    "current_cliques = [clique_candidates[idx] for idx in current_clique_idxs]\n",
    "current_sat = cliques_to_sat(current_cliques)"
   ]
  },
  {
   "cell_type": "code",
   "execution_count": 18,
   "metadata": {},
   "outputs": [
    {
     "name": "stdout",
     "output_type": "stream",
     "text": [
      "generating 50 instances with time 3.259002208709717\n"
     ]
    }
   ],
   "source": [
    "generate_num = 50\n",
    "\n",
    "start_time = time.time()\n",
    "for idx in range(generate_num):\n",
    "    # print(idx)\n",
    "    generated_graph = cell_model.sample_graph()\n",
    "    graph_prime = generated_graph.A\n",
    "    graph_prime = graph_post_process(graph_prime)\n",
    "    # print(len(graph_prime))\n",
    "    # print(graph_prime)\n",
    "    # print(graph_prime[[0, 1, 2], [0, 0, 0]])\n",
    "\n",
    "    edge_index_prime = torch.tensor(graph_prime.nonzero(), dtype=torch.long)\n",
    "    data_prime = Data(x=x, edge_index = edge_index_prime)\n",
    "    out = model(data_prime)\n",
    "    src, dst = edge_index_prime\n",
    "    score = (out[src] * out[dst]).sum(dim=-1)\n",
    "    weight = score.detach().numpy()\n",
    "    weight[weight <= 1] = 1\n",
    "    weight = np.rint(weight).astype(int)\n",
    "    # print(f'histogram of inference weight: {np.histogram(weight, bins=[1, 2, 3, 4, 5, 6, 7])}')\n",
    "    # plt.hist(weight, bins=[1, 2, 3, 4, 5, 6, 7])\n",
    "\n",
    "    weighted_graph_prime = graph_prime\n",
    "    weighted_graph_prime[weighted_graph_prime.nonzero()] = weight\n",
    "    # lig_adjacency_matrix, lig_weighted_adjacency_matrix = sat_to_lig_adjacency_matrix(sat_instance, num_vars)\n",
    "    max_len = 8\n",
    "    clique_candidates = get_clique_candidates(graph_prime, max_len)\n",
    "    num_clauses = 377\n",
    "    num_vars = 91\n",
    "    # print(weighted_graph_prime.shape)\n",
    "    current_clique_idxs = lazy_clique_edge_cover(weighted_graph_prime, clique_candidates, num_clauses, num_vars)\n",
    "    current_cliques = [clique_candidates[idx] for idx in current_clique_idxs]\n",
    "    current_sat = cliques_to_sat(current_cliques)\n",
    "\n",
    "    path = f\"./eval_formulas/ssa2670-141/generating-sat-{idx}.cnf\"\n",
    "    with open(path, 'w') as f:\n",
    "        f.write('p cnf 91 377\\n')\n",
    "        for clause in current_sat:\n",
    "            f.write(f\"{' '.join([str(v) for v in clause])} 0\\n\")\n",
    "\n",
    "print(f'generating {generate_num} instances with time {time.time() - start_time}')"
   ]
  },
  {
   "cell_type": "code",
   "execution_count": 7,
   "metadata": {},
   "outputs": [
    {
     "name": "stdout",
     "output_type": "stream",
     "text": [
      "clu. VIG: 0.4731028752283812\n",
      "clu. LIG: 0.3008281581447045\n",
      "mod. VIG: 0.4939167184045137\n",
      "mod. LIG: 0.5549594736978142\n",
      "mod. VCG: 0.6437184756340264\n",
      "mod. LCG: 0.5227524038461538\n"
     ]
    }
   ],
   "source": [
    "features = [\n",
    "        \"clu. VIG\",\n",
    "        \"clu. LIG\",\n",
    "        \"mod. VIG\",\n",
    "        \"mod. LIG\",\n",
    "        \"mod. VCG\",\n",
    "        \"mod. LCG\"\n",
    "]\n",
    "\n",
    "metrics = eval_solution(current_sat, num_vars)\n",
    "for feature, value in zip(features, metrics):\n",
    "    print(f'{feature}: {value}')"
   ]
  },
  {
   "attachments": {},
   "cell_type": "markdown",
   "metadata": {},
   "source": [
    "# Todo\n",
    "\n",
    "- Optimize the optimal weighted coverage (OWC) algorithm\n",
    "- Generate more graph for the ssa2670, compute the average metric\n",
    "- Test the method on more instances\n",
    "- *Test the solver performance*"
   ]
  }
 ],
 "metadata": {
  "kernelspec": {
   "display_name": "base",
   "language": "python",
   "name": "python3"
  },
  "language_info": {
   "codemirror_mode": {
    "name": "ipython",
    "version": 3
   },
   "file_extension": ".py",
   "mimetype": "text/x-python",
   "name": "python",
   "nbconvert_exporter": "python",
   "pygments_lexer": "ipython3",
   "version": "3.9.12"
  },
  "orig_nbformat": 4,
  "vscode": {
   "interpreter": {
    "hash": "7df9adec5398d45472c8bf81047aa2ae699f575f599903d765e95bf4a199fe03"
   }
  }
 },
 "nbformat": 4,
 "nbformat_minor": 2
}
