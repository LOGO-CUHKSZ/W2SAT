{
 "cells": [
  {
   "cell_type": "code",
   "execution_count": 14,
   "metadata": {},
   "outputs": [],
   "source": [
    "import itertools as it\n",
    "import time\n",
    "from utils import *\n",
    "\n",
    "import numpy as np\n",
    "from scipy import sparse\n",
    "\n",
    "import torch\n",
    "import torch.nn.functional as F\n",
    "from torch_geometric.nn import GCNConv\n",
    "# from torch_geometric.nn import GATConv\n",
    "from torch_geometric.data import Data"
   ]
  },
  {
   "cell_type": "code",
   "execution_count": 15,
   "metadata": {},
   "outputs": [],
   "source": [
    "class GCN(torch.nn.Module):\n",
    "    def __init__(self, node_features):\n",
    "        super().__init__()\n",
    "        # GCN initialization\n",
    "        self.conv1 = GCNConv(node_features, 64)\n",
    "        self.conv2 = GCNConv(64, 128)\n",
    "        # self.conv1 = GATConv(node_features, 64, 5)\n",
    "        # self.conv2 = GATConv(64 * 5, 128)\n",
    "        # self.conv3 = GCNConv(128, 128)\n",
    "\n",
    "    def forward(self, data):\n",
    "        x, edge_index = data.x, data.edge_index\n",
    "        x = self.conv1(x, edge_index)\n",
    "        x = F.relu(x)\n",
    "        # x = F.elu(x)\n",
    "        # x = F.dropout(x, training=self.training)\n",
    "        x = self.conv2(x, edge_index)\n",
    "        # x = F.tanh(x)\n",
    "        # x = self.conv3(x, edge_index)\n",
    "\n",
    "        return x\n"
   ]
  },
  {
   "cell_type": "code",
   "execution_count": 16,
   "metadata": {},
   "outputs": [],
   "source": [
    "sat_name = 'ii32a1.processed.cnf'\n",
    "\n",
    "sat_path = f'./dataset/formulas/{sat_name}'\n",
    "num_vars, num_clauses, sat_instance = read_sat(sat_path)\n",
    "max_len = max([len(clause) for clause in sat_instance])\n",
    "\n",
    "lig_adjacency_matrix, lig_weighted_adjacency_matrix = sat_to_lig_adjacency_matrix(sat_instance, num_vars)\n",
    "\n",
    "# graph = nx.from_numpy_matrix(lig_adjacency_matrix)\n",
    "# edges = nx.to_edgelist(graph)\n",
    "# print(lig_adjacency_matrix.nonzero())\n",
    "\n",
    "edge_index = torch.tensor(np.array(lig_adjacency_matrix.nonzero()), dtype=torch.long)\n",
    "edge_value = lig_weighted_adjacency_matrix[lig_adjacency_matrix.nonzero()]\n",
    "\n",
    "embeddings = torch.load(f'./model/embeddings/{sat_name}.pt')\n",
    "embeddings.requires_grad = False\n",
    "# print(embeddings)\n",
    "x = embeddings\n",
    "data = Data(x=x, edge_index=edge_index)\n"
   ]
  },
  {
   "cell_type": "code",
   "execution_count": 17,
   "metadata": {},
   "outputs": [
    {
     "name": "stdout",
     "output_type": "stream",
     "text": [
      "edge_value: [1. 1. 1. ... 1. 1. 1.]\n",
      "score: tensor([2.2229, 1.4147, 1.3771,  ..., 0.9706, 0.7838, 1.0936])\n",
      "min score: -0.3017509877681732\n",
      "max score: 40.37099838256836\n"
     ]
    }
   ],
   "source": [
    "# training\n",
    "model = GCN(50)\n",
    "optimizer = torch.optim.Adam(model.parameters(), lr=0.01, weight_decay=5e-4)\n",
    "model.train()\n",
    "for epoch in range(400):\n",
    "    optimizer.zero_grad()\n",
    "    out = model(data)\n",
    "    src, dst = edge_index\n",
    "    score = (out[src] * out[dst]).sum(dim=-1)\n",
    "    # score = torch.sigmoid(score)\n",
    "    loss = F.mse_loss(score, torch.tensor(edge_value, dtype=torch.float))\n",
    "    loss.backward()\n",
    "    optimizer.step()\n",
    "    # print(f'epoch: {epoch}, loss: {loss.item()}')\n",
    "\n",
    "out = model(data)\n",
    "src, dst = edge_index\n",
    "score = (out[src] * out[dst]).sum(dim=-1)\n",
    "# print(min(score))\n",
    "# score = torch.sigmoid(score)\n",
    "print(f\"edge_value: {edge_value}\")\n",
    "print(f\"score: {score.detach()}\")\n",
    "print(f\"min score: {min(score)}\")\n",
    "print(f\"max score: {max(score)}\")"
   ]
  },
  {
   "cell_type": "code",
   "execution_count": 18,
   "metadata": {},
   "outputs": [
    {
     "name": "stdout",
     "output_type": "stream",
     "text": [
      "Step:  10/200 Loss: 4.48956 Edge-Overlap: 0.614 Total-Time: 0\n",
      "Step:  20/200 Loss: 4.40971 Edge-Overlap: 0.424 Total-Time: 0\n",
      "Step:  30/200 Loss: 4.33507 Edge-Overlap: 0.339 Total-Time: 1\n",
      "Step:  40/200 Loss: 4.27498 Edge-Overlap: 0.339 Total-Time: 1\n",
      "Step:  50/200 Loss: 4.24935 Edge-Overlap: 0.226 Total-Time: 1\n",
      "Step:  60/200 Loss: 4.23459 Edge-Overlap: 0.226 Total-Time: 1\n",
      "Step:  70/200 Loss: 4.22528 Edge-Overlap: 0.226 Total-Time: 2\n",
      "Step:  80/200 Loss: 4.21853 Edge-Overlap: 0.113 Total-Time: 2\n",
      "Step:  90/200 Loss: 4.21336 Edge-Overlap: 0.720 Total-Time: 2\n",
      "Step: 100/200 Loss: 4.20901 Edge-Overlap: 0.724 Total-Time: 3\n",
      "Step: 110/200 Loss: 4.20527 Edge-Overlap: 0.113 Total-Time: 3\n",
      "Step: 120/200 Loss: 4.20228 Edge-Overlap: 0.725 Total-Time: 3\n",
      "Step: 130/200 Loss: 4.19960 Edge-Overlap: 0.727 Total-Time: 4\n",
      "Step: 140/200 Loss: 4.19755 Edge-Overlap: 0.731 Total-Time: 4\n",
      "Step: 150/200 Loss: 4.19557 Edge-Overlap: 0.729 Total-Time: 4\n",
      "Step: 160/200 Loss: 4.19402 Edge-Overlap: 0.729 Total-Time: 5\n",
      "Step: 170/200 Loss: 4.19306 Edge-Overlap: 0.731 Total-Time: 5\n",
      "Step: 180/200 Loss: 4.19157 Edge-Overlap: 0.731 Total-Time: 6\n",
      "Step: 190/200 Loss: 4.19050 Edge-Overlap: 0.777 Total-Time: 6\n"
     ]
    }
   ],
   "source": [
    "# CELL\n",
    "import warnings\n",
    "warnings.filterwarnings('ignore')\n",
    "\n",
    "import pickle\n",
    "import numpy as np\n",
    "import scipy.sparse as sp\n",
    "from scipy.sparse import load_npz\n",
    "\n",
    "import torch\n",
    "\n",
    "from cell.utils import link_prediction_performance\n",
    "from cell.cell import Cell, EdgeOverlapCriterion, LinkPredictionCriterion\n",
    "from cell.graph_statistics import compute_graph_statistics\n",
    "\n",
    "\n",
    "sparse_matrix = sparse.csr_matrix(lig_adjacency_matrix)\n",
    "cell_model = Cell(A=sparse_matrix,\n",
    "             H=10,\n",
    "             callbacks=[EdgeOverlapCriterion(invoke_every=10, edge_overlap_limit=.75)])\n",
    "\n",
    "\n",
    "cell_model.train(steps=200,\n",
    "            optimizer_fn=torch.optim.Adam,\n",
    "            optimizer_args={'lr': 0.1,\n",
    "                            'weight_decay': 1e-7})\n"
   ]
  },
  {
   "cell_type": "code",
   "execution_count": 19,
   "metadata": {},
   "outputs": [
    {
     "ename": "KeyboardInterrupt",
     "evalue": "",
     "output_type": "error",
     "traceback": [
      "\u001b[0;31m---------------------------------------------------------------------------\u001b[0m",
      "\u001b[0;31mKeyboardInterrupt\u001b[0m                         Traceback (most recent call last)",
      "\u001b[1;32m/Users/wenweihuang/Workspace/Net2SAT/main.ipynb Cell 6\u001b[0m in \u001b[0;36m<cell line: 27>\u001b[0;34m()\u001b[0m\n\u001b[1;32m     <a href='vscode-notebook-cell:/Users/wenweihuang/Workspace/Net2SAT/main.ipynb#X13sZmlsZQ%3D%3D?line=24'>25</a>\u001b[0m weighted_graph_prime[weighted_graph_prime\u001b[39m.\u001b[39mnonzero()] \u001b[39m=\u001b[39m weight\n\u001b[1;32m     <a href='vscode-notebook-cell:/Users/wenweihuang/Workspace/Net2SAT/main.ipynb#X13sZmlsZQ%3D%3D?line=25'>26</a>\u001b[0m \u001b[39m# lig_adjacency_matrix, lig_weighted_adjacency_matrix = sat_to_lig_adjacency_matrix(sat_instance, num_vars)\u001b[39;00m\n\u001b[0;32m---> <a href='vscode-notebook-cell:/Users/wenweihuang/Workspace/Net2SAT/main.ipynb#X13sZmlsZQ%3D%3D?line=26'>27</a>\u001b[0m clique_candidates \u001b[39m=\u001b[39m get_clique_candidates(graph_prime, max_len)\n\u001b[1;32m     <a href='vscode-notebook-cell:/Users/wenweihuang/Workspace/Net2SAT/main.ipynb#X13sZmlsZQ%3D%3D?line=27'>28</a>\u001b[0m \u001b[39mprint\u001b[39m(weighted_graph_prime\u001b[39m.\u001b[39mshape)\n\u001b[1;32m     <a href='vscode-notebook-cell:/Users/wenweihuang/Workspace/Net2SAT/main.ipynb#X13sZmlsZQ%3D%3D?line=29'>30</a>\u001b[0m current_cliques \u001b[39m=\u001b[39m lazy_clique_edge_cover(np\u001b[39m.\u001b[39mcopy(weighted_graph_prime), clique_candidates, num_clauses)\n",
      "File \u001b[0;32m~/Workspace/Net2SAT/utils.py:292\u001b[0m, in \u001b[0;36mget_clique_candidates\u001b[0;34m(lig_adjacency_matrix, k)\u001b[0m\n\u001b[1;32m    290\u001b[0m cliques \u001b[39m=\u001b[39m nx\u001b[39m.\u001b[39menumerate_all_cliques(graph)\n\u001b[1;32m    291\u001b[0m clique_candidates \u001b[39m=\u001b[39m []\n\u001b[0;32m--> 292\u001b[0m \u001b[39mfor\u001b[39;00m clique \u001b[39min\u001b[39;00m cliques:\n\u001b[1;32m    293\u001b[0m     \u001b[39mif\u001b[39;00m \u001b[39mlen\u001b[39m(clique) \u001b[39m<\u001b[39m\u001b[39m=\u001b[39m k:\n\u001b[1;32m    294\u001b[0m         \u001b[39mif\u001b[39;00m \u001b[39mlen\u001b[39m(clique) \u001b[39m>\u001b[39m \u001b[39m1\u001b[39m:\n",
      "File \u001b[0;32m~/anaconda3/lib/python3.9/site-packages/networkx/algorithms/clique.py:90\u001b[0m, in \u001b[0;36menumerate_all_cliques\u001b[0;34m(G)\u001b[0m\n\u001b[1;32m     85\u001b[0m \u001b[39m# Loop invariants:\u001b[39;00m\n\u001b[1;32m     86\u001b[0m \u001b[39m# 1. len(base) is nondecreasing.\u001b[39;00m\n\u001b[1;32m     87\u001b[0m \u001b[39m# 2. (base + cnbrs) is sorted with respect to the iteration order of G.\u001b[39;00m\n\u001b[1;32m     88\u001b[0m \u001b[39m# 3. cnbrs is a set of common neighbors of nodes in base.\u001b[39;00m\n\u001b[1;32m     89\u001b[0m \u001b[39mwhile\u001b[39;00m queue:\n\u001b[0;32m---> 90\u001b[0m     base, cnbrs \u001b[39m=\u001b[39m \u001b[39mmap\u001b[39m(\u001b[39mlist\u001b[39m, queue\u001b[39m.\u001b[39mpopleft())\n\u001b[1;32m     91\u001b[0m     \u001b[39myield\u001b[39;00m base\n\u001b[1;32m     92\u001b[0m     \u001b[39mfor\u001b[39;00m i, u \u001b[39min\u001b[39;00m \u001b[39menumerate\u001b[39m(cnbrs):\n\u001b[1;32m     93\u001b[0m         \u001b[39m# Use generators to reduce memory consumption.\u001b[39;00m\n",
      "\u001b[0;31mKeyboardInterrupt\u001b[0m: "
     ]
    }
   ],
   "source": [
    "generated_graph = cell_model.sample_graph()\n",
    "graph_prime = generated_graph.A\n",
    "graph_prime = graph_post_process(graph_prime)\n",
    "# print('here is graph_prime')\n",
    "# print(graph_prime[graph_prime < 0])\n",
    "# print(len(graph_prime))\n",
    "# print(graph_prime)\n",
    "# print(graph_prime[[0, 1, 2], [0, 0, 0]])\n",
    "\n",
    "edge_index_prime = torch.tensor(graph_prime.nonzero(), dtype=torch.long)\n",
    "x = embeddings\n",
    "data_prime = Data(x=x, edge_index = edge_index_prime)\n",
    "out = model(data_prime)\n",
    "src, dst = edge_index_prime\n",
    "score = (out[src] * out[dst]).sum(dim=-1)\n",
    "weight = score.detach().numpy()\n",
    "weight[weight <= 1] = 1\n",
    "weight = np.rint(weight).astype(int)\n",
    "\n",
    "\n",
    "# print(f'histogram of inference weight: {np.histogram(weight, bins=[1, 2, 3, 4, 5, 6, 7])}')\n",
    "# plt.hist(weight, bins=[1, 2, 3, 4, 5, 6, 7])\n",
    "\n",
    "weighted_graph_prime = np.copy(graph_prime)\n",
    "weighted_graph_prime[weighted_graph_prime.nonzero()] = weight\n",
    "# lig_adjacency_matrix, lig_weighted_adjacency_matrix = sat_to_lig_adjacency_matrix(sat_instance, num_vars)\n",
    "clique_candidates = get_clique_candidates(graph_prime, max_len)\n",
    "print(weighted_graph_prime.shape)\n",
    "\n",
    "current_cliques = lazy_clique_edge_cover(np.copy(weighted_graph_prime), clique_candidates, num_clauses)\n",
    "current_sat = cliques_to_sat(current_cliques)"
   ]
  },
  {
   "cell_type": "code",
   "execution_count": null,
   "metadata": {},
   "outputs": [
    {
     "name": "stdout",
     "output_type": "stream",
     "text": [
      "clu. VIG: 0.5890136327677772\n",
      "clu. LIG: 0.415570584942189\n",
      "mod. VIG: 0.5796909404105592\n",
      "mod. LIG: 0.6005174518816432\n",
      "mod. VCG: 0.6195194661633298\n",
      "mod. LCG: 0.5336667981591058\n"
     ]
    }
   ],
   "source": [
    "features = [\n",
    "        \"clu. VIG\",\n",
    "        \"clu. LIG\",\n",
    "        \"mod. VIG\",\n",
    "        \"mod. LIG\",\n",
    "        \"mod. VCG\",\n",
    "        \"mod. LCG\"\n",
    "]\n",
    "\n",
    "metrics = eval_solution(current_sat, num_vars)\n",
    "for feature, value in zip(features, metrics):\n",
    "    print(f'{feature}: {value}')"
   ]
  },
  {
   "cell_type": "code",
   "execution_count": null,
   "metadata": {},
   "outputs": [],
   "source": [
    "# init_lig = lig_adjacency_matrix\n",
    "# generate_lig = graph_prime\n",
    "# init_wlig = lig_weighted_adjacency_matrix\n",
    "# generate_wlig = weighted_graph_prime\n",
    "# formulas_lig, formulas_wlig = sat_to_lig_adjacency_matrix(current_sat, num_vars)\n",
    "\n"
   ]
  },
  {
   "cell_type": "code",
   "execution_count": null,
   "metadata": {},
   "outputs": [],
   "source": [
    "# import csv\n",
    "\n",
    "# graphs = [init_lig, generate_lig, init_wlig, generate_wlig, formulas_wlig]\n",
    "# graph_names = ['init_lig', 'generate_lig', 'init_wlig', 'generate_wlig', 'formulas_wlig']\n",
    "\n",
    "# fileds = ['Source','Target','Type','Kind','Id','Label','Weight']\n",
    "# with open('ssa2670-141-all-1.csv', 'w') as csvfile:\n",
    "#     csvwriter = csv.writer(csvfile, delimiter=',')\n",
    "#     csvwriter.writerow(fileds)\n",
    "#     idx = 1\n",
    "#     for graph_name, graph in zip(graph_names, graphs):\n",
    "#         triu_adjacency_matrix = np.triu(graph)\n",
    "#         x, y = triu_adjacency_matrix.nonzero()\n",
    "#         for i, j in zip(x, y):\n",
    "#             csvwriter.writerow([i, j, 'Undirected', graph_name, idx, graph_name, triu_adjacency_matrix[i][j]])\n",
    "#             idx += 1\n",
    "    "
   ]
  },
  {
   "cell_type": "code",
   "execution_count": null,
   "metadata": {},
   "outputs": [],
   "source": [
    "# generate_num = 50\n",
    "\n",
    "# start_time = time.time()\n",
    "# for idx in range(generate_num):\n",
    "#     # print(idx)\n",
    "#     generated_graph = cell_model.sample_graph()\n",
    "#     graph_prime = generated_graph.A\n",
    "#     graph_prime = graph_post_process(graph_prime)\n",
    "#     # print(len(graph_prime))\n",
    "#     # print(graph_prime)\n",
    "#     # print(graph_prime[[0, 1, 2], [0, 0, 0]])\n",
    "\n",
    "#     edge_index_prime = torch.tensor(graph_prime.nonzero(), dtype=torch.long)\n",
    "#     data_prime = Data(x=x, edge_index = edge_index_prime)\n",
    "#     out = model(data_prime)\n",
    "#     src, dst = edge_index_prime\n",
    "#     score = (out[src] * out[dst]).sum(dim=-1)\n",
    "#     weight = score.detach().numpy()\n",
    "#     weight[weight <= 1] = 1\n",
    "#     weight = np.rint(weight).astype(int)\n",
    "#     # print(f'histogram of inference weight: {np.histogram(weight, bins=[1, 2, 3, 4, 5, 6, 7])}')\n",
    "#     # plt.hist(weight, bins=[1, 2, 3, 4, 5, 6, 7])\n",
    "\n",
    "#     weighted_graph_prime = graph_prime\n",
    "#     weighted_graph_prime[weighted_graph_prime.nonzero()] = weight\n",
    "#     # lig_adjacency_matrix, lig_weighted_adjacency_matrix = sat_to_lig_adjacency_matrix(sat_instance, num_vars)\n",
    "#     max_len = 8\n",
    "#     clique_candidates = get_clique_candidates(graph_prime, max_len)\n",
    "#     num_clauses = 377\n",
    "#     num_vars = 91\n",
    "#     # print(weighted_graph_prime.shape)\n",
    "#     current_clique_idxs = lazy_clique_edge_cover(weighted_graph_prime, clique_candidates, num_clauses, num_vars)\n",
    "#     current_cliques = [clique_candidates[idx] for idx in current_clique_idxs]\n",
    "#     current_sat = cliques_to_sat(current_cliques)\n",
    "\n",
    "#     path = f\"./eval_formulas/ssa2670-141/generating-sat-{idx}.cnf\"\n",
    "#     with open(path, 'w') as f:\n",
    "#         f.write('p cnf 91 377\\n')\n",
    "#         for clause in current_sat:\n",
    "#             f.write(f\"{' '.join([str(v) for v in clause])} 0\\n\")\n",
    "\n",
    "# print(f'generating {generate_num} instances with time {time.time() - start_time}')"
   ]
  },
  {
   "attachments": {},
   "cell_type": "markdown",
   "metadata": {},
   "source": [
    "# Todo\n",
    "\n",
    "- Optimize the optimal weighted coverage (OWC) algorithm\n",
    "- Generate more graph for the ssa2670, compute the average metric\n",
    "- Test the method on more instances\n",
    "- *Test the solver performance*"
   ]
  }
 ],
 "metadata": {
  "kernelspec": {
   "display_name": "base",
   "language": "python",
   "name": "python3"
  },
  "language_info": {
   "codemirror_mode": {
    "name": "ipython",
    "version": 3
   },
   "file_extension": ".py",
   "mimetype": "text/x-python",
   "name": "python",
   "nbconvert_exporter": "python",
   "pygments_lexer": "ipython3",
   "version": "3.9.12"
  },
  "orig_nbformat": 4,
  "vscode": {
   "interpreter": {
    "hash": "7df9adec5398d45472c8bf81047aa2ae699f575f599903d765e95bf4a199fe03"
   }
  }
 },
 "nbformat": 4,
 "nbformat_minor": 2
}
