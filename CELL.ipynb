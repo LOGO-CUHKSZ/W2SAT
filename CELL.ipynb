{
 "cells": [
  {
   "cell_type": "code",
   "execution_count": null,
   "metadata": {},
   "outputs": [],
   "source": []
  }
 ],
 "metadata": {
  "kernelspec": {
   "display_name": "Python 3.8.6 64-bit ('py386')",
   "language": "python",
   "name": "python3"
  },
  "language_info": {
   "name": "python",
   "version": "3.8.6"
  },
  "orig_nbformat": 4,
  "vscode": {
   "interpreter": {
    "hash": "690e9c122dc4b4ac9486e68d6939aaf4a2b63fd6ccd9949947b0d4088e4d17f1"
   }
  }
 },
 "nbformat": 4,
 "nbformat_minor": 2
}
