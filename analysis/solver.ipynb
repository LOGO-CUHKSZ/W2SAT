{
 "cells": [
  {
   "cell_type": "code",
   "execution_count": null,
   "metadata": {},
   "outputs": [],
   "source": [
    "from pysat.solvers import Glucose3\n",
    "from pysat.formula import CNF\n",
    "\n"
   ]
  },
  {
   "cell_type": "code",
   "execution_count": null,
   "metadata": {},
   "outputs": [],
   "source": [
    "\n",
    "g = Glucose3()\n",
    "\n",
    "filename = 'sat_prob_83.processed'\n",
    "\n",
    "formula = CNF(from_file=f'./dataset/train_formulas/{filename}.cnf')\n",
    "\n",
    "formula.nv\n",
    "\n",
    "print(formula.clauses)\n",
    "\n",
    "with Glucose3(bootstrap_with=formula.clauses) as solver:\n",
    "    print(solver.solve())\n"
   ]
  },
  {
   "attachments": {},
   "cell_type": "markdown",
   "metadata": {},
   "source": [
    "- AProVE07-03.processed.cnf: False, 7448, 1317, 74.39008522033691\n",
    "- mrpp_4x4#4_5.processed.cnf: True, 2517, 309, 0.005956888198852539\n",
    "- bmc-ibm-2.processed.cnf: True, 573, 119, 0.0014221668243408203\n",
    "- ii32e3.processed.cnf: True, 4974, 284, 0.012670040130615234\n",
    "- ssa2670-141.processed.cnf: False, 377, 91, 0.00156402587890625\n",
    "- bmc-ibm-5.processed.cnf: True, 6042, 1068, 0.009827136993408203\n",
    "- minor032.processed.cnf: False, 5130, 751, 0.06239891052246094\n",
    "- ssa2670-130.processed.cnf: False, 327, 82, 0.002245187759399414"
   ]
  }
 ],
 "metadata": {
  "kernelspec": {
   "display_name": "base",
   "language": "python",
   "name": "python3"
  },
  "language_info": {
   "codemirror_mode": {
    "name": "ipython",
    "version": 3
   },
   "file_extension": ".py",
   "mimetype": "text/x-python",
   "name": "python",
   "nbconvert_exporter": "python",
   "pygments_lexer": "ipython3",
   "version": "3.9.12 (main, Jun  1 2022, 06:34:44) \n[Clang 12.0.0 ]"
  },
  "orig_nbformat": 4,
  "vscode": {
   "interpreter": {
    "hash": "7df9adec5398d45472c8bf81047aa2ae699f575f599903d765e95bf4a199fe03"
   }
  }
 },
 "nbformat": 4,
 "nbformat_minor": 2
}
