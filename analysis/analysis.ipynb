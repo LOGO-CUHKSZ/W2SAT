{
 "cells": [
  {
   "cell_type": "code",
   "execution_count": 5,
   "metadata": {},
   "outputs": [],
   "source": [
    "import os\n",
    "import pandas as pd"
   ]
  },
  {
   "cell_type": "code",
   "execution_count": 10,
   "metadata": {},
   "outputs": [
    {
     "name": "stdout",
     "output_type": "stream",
     "text": [
      "['mrpp_4x4#4_4.processed.cnf.log', 'mrpp_4x4#4_5.processed.cnf.log', 'mrpp_4x4#6_5.processed.cnf.log', 'countbitssrl016.processed.cnf.log', 'ssa2670-130.processed.cnf.log', 'bmc-ibm-5.processed.cnf.log', 'smulo016.processed.cnf.log', 'sat_prob_83.processed.cnf.log', 'mrpp_4x4#8_8.processed.cnf.log', 'countbitsrotate016.processed.cnf.log', 'aes_64_1_keyfind_1.processed.cnf.log', 'bf0432-007.processed.cnf.log', 'bmc-ibm-7.processed.cnf.log', 'ssa2670-141.processed.cnf.log', 'bmc-ibm-2.processed.cnf.log', 'cmu-bmc-longmult15.processed.cnf.log', 'aes_32_3_keyfind_2.processed.cnf.log']\n",
      "mrpp_4x4#4_4 & 208.0 & 1538.0 & 1.670 & 164.244 & 36.288 & 2.715 \\\\\n",
      "mrpp_4x4#4_5 & 309.0 & 2517.0 & 15.751 & 182.468 & 53.209 & 4.968 \\\\\n",
      "mrpp_4x4#6_5 & 330.0 & 2721.0 & 20.058 & 186.818 & 40.931 & 5.425 \\\\\n",
      "countbitssrl016 & 1691.0 & 8378.0 & 1168.369 & 121.368 & 115.004 & 8.521 \\\\\n",
      "ssa2670-130 & 82.0 & 327.0 & 0.106 & 50.595 & 12.702 & 1.566 \\\\\n",
      "bmc-ibm-5 & 1068.0 & 6042.0 & 234.495 & 208.807 & 124.498 & 9.071 \\\\\n",
      "smulo016 & 1459.0 & 6288.0 & 607.595 & 164.932 & 151.759 & 7.389 \\\\\n",
      "sat_prob_83 & 1759.0 & 8012.0 & 59.313 & 322.410 & 102.804 & 11.534 \\\\\n",
      "mrpp_4x4#8_8 & 717.0 & 6773.0 & 66.955 & 262.625 & 111.062 & 11.754 \\\\\n",
      "countbitsrotate016 & 1122.0 & 4555.0 & 700.092 & 133.784 & 86.222 & 9.817 \\\\\n",
      "aes_64_1_keyfind_1 & 320.0 & 2088.0 & 4.101 & 167.153 & 71.303 & 3.414 \\\\\n",
      "bf0432-007 & 473.0 & 2038.0 & 621.411 & 77.084 & 30.251 & 3.048 \\\\\n",
      "bmc-ibm-7 & 860.0 & 4797.0 & 481.930 & 135.057 & 120.668 & 7.042 \\\\\n",
      "ssa2670-141 & 91.0 & 377.0 & 0.107 & 57.126 & 11.750 & 1.726 \\\\\n",
      "bmc-ibm-2 & 119.0 & 573.0 & 0.268 & 58.833 & 8.009 & 1.788 \\\\\n",
      "cmu-bmc-longmult15 & 1731.0 & 9791.0 & 700.287 & 232.948 & 146.801 & 12.505 \\\\\n",
      "aes_32_3_keyfind_2 & 450.0 & 2204.0 & 3.316 & 187.770 & 40.327 & 3.593 \\\\\n"
     ]
    }
   ],
   "source": [
    "directory = './generation_stat/'\n",
    "filenames = os.listdir(directory)\n",
    "print(filenames)\n",
    "\n",
    "lines = []\n",
    "for name in filenames:\n",
    "    file = open(f'{directory}/{name}', 'r')\n",
    "    line = file.readline()\n",
    "    lines.append(line)\n",
    "# print(lines)\n",
    "\n",
    "\n",
    "fileds = ['name', 'num_vars', 'num_clauses', 'OWC_time', 'GNN_time', 'CELL_time', 'GEN_time_avg']\n",
    "\n",
    "data_table = []\n",
    "for line in lines:\n",
    "    items = line.split(',')\n",
    "    itmes = [x.split('.')[0]  if 'cnf' in x else float(x) for x in items]\n",
    "    data_table.append(items)\n",
    "    print(f'{itmes[0]} & {itmes[1]} & {itmes[2]} & {itmes[3]:.3f} & {itmes[4]:.3f} & {itmes[5]:.3f} & {itmes[6]:.3f} \\\\\\\\')\n",
    "\n",
    "df = pd.DataFrame(data_table, columns=fileds)\n",
    "# print(df)\n"
   ]
  }
 ],
 "metadata": {
  "kernelspec": {
   "display_name": "base",
   "language": "python",
   "name": "python3"
  },
  "language_info": {
   "codemirror_mode": {
    "name": "ipython",
    "version": 3
   },
   "file_extension": ".py",
   "mimetype": "text/x-python",
   "name": "python",
   "nbconvert_exporter": "python",
   "pygments_lexer": "ipython3",
   "version": "3.9.12 (main, Jun  1 2022, 06:34:44) \n[Clang 12.0.0 ]"
  },
  "orig_nbformat": 4,
  "vscode": {
   "interpreter": {
    "hash": "7df9adec5398d45472c8bf81047aa2ae699f575f599903d765e95bf4a199fe03"
   }
  }
 },
 "nbformat": 4,
 "nbformat_minor": 2
}
