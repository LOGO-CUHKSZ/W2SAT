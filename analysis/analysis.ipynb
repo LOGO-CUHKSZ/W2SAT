{
 "cells": [
  {
   "cell_type": "code",
   "execution_count": 2,
   "metadata": {},
   "outputs": [],
   "source": [
    "import os\n",
    "import pandas as pd"
   ]
  },
  {
   "cell_type": "code",
   "execution_count": 29,
   "metadata": {},
   "outputs": [
    {
     "name": "stdout",
     "output_type": "stream",
     "text": [
      "['mrpp_4x4#4_4.processed.cnf.log', 'mrpp_4x4#4_5.processed.cnf.log', 'mrpp_4x4#6_5.processed.cnf.log', 'countbitssrl016.processed.cnf.log', 'ssa2670-130.processed.cnf.log', 'bmc-ibm-5.processed.cnf.log', 'smulo016.processed.cnf.log', 'sat_prob_83.processed.cnf.log', 'mrpp_4x4#8_8.processed.cnf.log', 'countbitsrotate016.processed.cnf.log', 'aes_64_1_keyfind_1.processed.cnf.log', 'bf0432-007.processed.cnf.log', 'bmc-ibm-7.processed.cnf.log', 'ssa2670-141.processed.cnf.log', 'bmc-ibm-2.processed.cnf.log', 'cmu-bmc-longmult15.processed.cnf.log', 'aes_32_3_keyfind_2.processed.cnf.log']\n",
      "mrpp_4x4#4_4 & 208.0 & 1538.0  & 10.108 & 8.063 & 0.708 \\\\\n",
      "mrpp_4x4#4_5 & 309.0 & 2517.0  & 15.515 & 5.155 & 1.229 \\\\\n",
      "mrpp_4x4#6_5 & 330.0 & 2721.0  & 16.192 & 6.838 & 1.445 \\\\\n",
      "countbitssrl016 & 1691.0 & 8378.0  & 43.677 & 77.375 & 10.169 \\\\\n",
      "ssa2670-130 & 82.0 & 327.0  & 3.453 & 1.138 & 0.197 \\\\\n",
      "bmc-ibm-5 & 1068.0 & 6042.0  & 32.036 & 39.594 & 4.294 \\\\\n",
      "smulo016 & 1459.0 & 6288.0  & 29.048 & 98.561 & 4.601 \\\\\n",
      "sat_prob_83 & 1759.0 & 8012.0  & 39.840 & 64.830 & 6.334 \\\\\n",
      "mrpp_4x4#8_8 & 717.0 & 6773.0  & 43.517 & 28.228 & 6.147 \\\\\n",
      "countbitsrotate016 & 1122.0 & 4555.0  & 20.556 & 55.111 & 16.639 \\\\\n",
      "aes_64_1_keyfind_1 & 320.0 & 2088.0  & 20.555 & 11.874 & 0.993 \\\\\n",
      "bf0432-007 & 473.0 & 2038.0  & 12.143 & 4.110 & 1.011 \\\\\n",
      "bmc-ibm-7 & 860.0 & 4797.0  & 30.741 & 38.532 & 3.819 \\\\\n",
      "ssa2670-141 & 91.0 & 377.0  & 4.135 & 1.496 & 0.219 \\\\\n",
      "bmc-ibm-2 & 119.0 & 573.0  & 4.101 & 1.692 & 0.290 \\\\\n",
      "cmu-bmc-longmult15 & 1731.0 & 9791.0  & 56.193 & 132.774 & 11.119 \\\\\n",
      "aes_32_3_keyfind_2 & 450.0 & 2204.0  & 15.909 & 4.613 & 1.054 \\\\\n"
     ]
    }
   ],
   "source": [
    "# generation analysis\n",
    "\n",
    "directory = '../result/generation_stat/'\n",
    "filenames = os.listdir(directory)\n",
    "print(filenames)\n",
    "\n",
    "lines = []\n",
    "for name in filenames:\n",
    "    file = open(f'{directory}/{name}', 'r')\n",
    "    line = file.readline()\n",
    "    lines.append(line)\n",
    "# print(lines)\n",
    "\n",
    "\n",
    "fileds = ['name', 'num_vars', 'num_clauses', 'OWC_time', 'GNN_time', 'CELL_time', 'GEN_time_avg']\n",
    "\n",
    "data_table = []\n",
    "for line in lines:\n",
    "    items = line.split(',')\n",
    "    items = [x.split('.')[0]  if 'cnf' in x else float(x) for x in items]\n",
    "    data_table.append(items)\n",
    "    # print(f'{items[0]} & {items[1]} & {items[2]} & {items[3]:.3f} & {items[4]:.3f} & {items[5]:.3f} & {items[6]:.3f} \\\\\\\\')\n",
    "\n",
    "# df = pd.DataFrame(data_table, columns=fileds)"
   ]
  },
  {
   "cell_type": "code",
   "execution_count": 26,
   "metadata": {},
   "outputs": [
    {
     "name": "stdout",
     "output_type": "stream",
     "text": [
      "0.85 0.7 0.876\n",
      "0.8 0.999 0.717\n",
      "0.95 0.9 1.143\n",
      "0.85 0.8 0.627\n",
      "0.85 0.999 0.474\n",
      "0.95 0.7 0.865\n"
     ]
    }
   ],
   "source": [
    "# solver performance\n",
    "\n",
    "directory = '../result/glucose/'\n",
    "filenames = os.listdir(directory)\n",
    "lines = []\n",
    "for name in filenames:\n",
    "    file = open(f'{directory}/{name}', 'r')\n",
    "    line = file.readline()\n",
    "    lines.append(line)\n",
    "\n",
    "names = ['countbitsrotate016', 'smulo016', 'cmu-bmc-longmult15', 'countbitssrl016', 'aes_32_3_keyfind_2', 'sat_prob_83']\n",
    "vdecays = [0.75, 0.80, 0.85, 0.90, 0.95]\n",
    "cdecays = [0.7, 0.8, 0.9, 0.99, 0.999]\n",
    "\n",
    "data_1 = {'vars_decay': [], 'clau_decay': [], 'countbitssrl016': [],  'smulo016': [], 'cmu-bmc-longmult15': [], 'countbitsrotate016': [], 'aes_32_3_keyfind_2': [], 'sat_prob_83': []}\n",
    "\n",
    "for v in vdecays:\n",
    "    for c in cdecays:\n",
    "        data_1['vars_decay'].append(v)\n",
    "        data_1['clau_decay'].append(c)\n",
    "        for line in lines:\n",
    "            vars_decay, clau_decay, full_name, cost = line.split(',')\n",
    "            if float(vars_decay) == v and float(clau_decay) == c :\n",
    "                for name in names:\n",
    "                    if name in full_name:\n",
    "                        data_1[name].append(float(cost))\n",
    "\n",
    "\n",
    "directory = '../result/glucose_generation/'\n",
    "filenames = os.listdir(directory)\n",
    "lines = []\n",
    "for name in filenames:\n",
    "    file = open(f'{directory}/{name}', 'r')\n",
    "    line = file.readline()\n",
    "    lines.append(line)\n",
    "\n",
    "data_2 = {'vars_decay': [], 'clau_decay': [], 'countbitssrl016': [],  'smulo016': [], 'cmu-bmc-longmult15': [], 'countbitsrotate016': [], 'aes_32_3_keyfind_2': [], 'sat_prob_83': []}\n",
    "for v in vdecays:\n",
    "    for c in cdecays:\n",
    "        data_2['vars_decay'].append(v)\n",
    "        data_2['clau_decay'].append(c)\n",
    "        for line in lines:\n",
    "            vars_decay, clau_decay, full_name, cost = line.split(',')\n",
    "            if float(vars_decay) == v and float(clau_decay) == c :\n",
    "                for name in names:\n",
    "                    if name in full_name:\n",
    "                        data_2[name].append(float(cost))\n",
    "\n",
    "df_1 = pd.DataFrame.from_dict(data_1)\n",
    "df_2 = pd.DataFrame.from_dict(data_2)\n",
    "\n",
    "\n",
    "# print(df_1.idxmin())\n",
    "# for idx, min_idx in enumerate(df_1.idxmin()[2:]):\n",
    "#     print(df_1['vars_decay'][min_idx], df_1['clau_decay'][min_idx], df_1.loc[min_idx][idx+2])\n",
    "# print(df_2.idxmin())\n",
    "for idx, min_idx in enumerate(df_2.idxmin()[2:]):\n",
    "    print(df_2['vars_decay'][min_idx], df_2['clau_decay'][min_idx], df_2.loc[min_idx][idx+2])\n",
    "\n",
    "# for value in df_1.iloc[0]:\n",
    "#     print(value)\n",
    "\n",
    "# for i in range(25):\n",
    "#     print(f'{df_1.iloc[i][0]} & {df_1.iloc[i][1]} & ' + ' & '.join([f'{df_1.iloc[i][j]}/{df_2.iloc[i][j]:.3f}' for j in range(2, 8)]) + '\\\\\\\\')"
   ]
  },
  {
   "cell_type": "code",
   "execution_count": null,
   "metadata": {},
   "outputs": [],
   "source": []
  }
 ],
 "metadata": {
  "kernelspec": {
   "display_name": "base",
   "language": "python",
   "name": "python3"
  },
  "language_info": {
   "codemirror_mode": {
    "name": "ipython",
    "version": 3
   },
   "file_extension": ".py",
   "mimetype": "text/x-python",
   "name": "python",
   "nbconvert_exporter": "python",
   "pygments_lexer": "ipython3",
   "version": "3.9.12"
  },
  "orig_nbformat": 4,
  "vscode": {
   "interpreter": {
    "hash": "7df9adec5398d45472c8bf81047aa2ae699f575f599903d765e95bf4a199fe03"
   }
  }
 },
 "nbformat": 4,
 "nbformat_minor": 2
}
