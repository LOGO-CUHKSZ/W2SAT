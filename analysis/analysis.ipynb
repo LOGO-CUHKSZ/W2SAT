{
 "cells": [
  {
   "cell_type": "code",
   "execution_count": null,
   "metadata": {},
   "outputs": [],
   "source": [
    "import os\n",
    "import pandas as pd"
   ]
  },
  {
   "cell_type": "code",
   "execution_count": null,
   "metadata": {},
   "outputs": [],
   "source": [
    "# generation analysis\n",
    "directory = './generation_stat/'\n",
    "filenames = os.listdir(directory)\n",
    "print(filenames)\n",
    "\n",
    "lines = []\n",
    "for name in filenames:\n",
    "    file = open(f'{directory}/{name}', 'r')\n",
    "    line = file.readline()\n",
    "    lines.append(line)\n",
    "# print(lines)\n",
    "\n",
    "\n",
    "fileds = ['name', 'num_vars', 'num_clauses', 'OWC_time', 'GNN_time', 'CELL_time', 'GEN_time_avg']\n",
    "\n",
    "data_table = []\n",
    "for line in lines:\n",
    "    items = line.split(',')\n",
    "    itmes = [x.split('.')[0]  if 'cnf' in x else float(x) for x in items]\n",
    "    data_table.append(items)\n",
    "    print(f'{itmes[0]} & {itmes[1]} & {itmes[2]} & {itmes[3]:.3f} & {itmes[4]:.3f} & {itmes[5]:.3f} & {itmes[6]:.3f} \\\\\\\\')\n",
    "\n",
    "df = pd.DataFrame(data_table, columns=fileds)\n",
    "# print(df)"
   ]
  },
  {
   "cell_type": "code",
   "execution_count": null,
   "metadata": {},
   "outputs": [],
   "source": [
    "# solver performance"
   ]
  }
 ],
 "metadata": {
  "kernelspec": {
   "display_name": "base",
   "language": "python",
   "name": "python3"
  },
  "language_info": {
   "codemirror_mode": {
    "name": "ipython",
    "version": 3
   },
   "file_extension": ".py",
   "mimetype": "text/x-python",
   "name": "python",
   "nbconvert_exporter": "python",
   "pygments_lexer": "ipython3",
   "version": "3.9.12 (main, Jun  1 2022, 06:34:44) \n[Clang 12.0.0 ]"
  },
  "orig_nbformat": 4,
  "vscode": {
   "interpreter": {
    "hash": "7df9adec5398d45472c8bf81047aa2ae699f575f599903d765e95bf4a199fe03"
   }
  }
 },
 "nbformat": 4,
 "nbformat_minor": 2
}
