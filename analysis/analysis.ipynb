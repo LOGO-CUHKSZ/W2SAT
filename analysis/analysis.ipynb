{
 "cells": [
  {
   "cell_type": "code",
   "execution_count": 1,
   "metadata": {},
   "outputs": [],
   "source": [
    "\n",
    "\n"
   ]
  },
  {
   "cell_type": "code",
   "execution_count": 2,
   "metadata": {},
   "outputs": [
    {
     "ename": "FileNotFoundError",
     "evalue": "[Errno 2] No such file or directory: '../result/generation_stat/'",
     "output_type": "error",
     "traceback": [
      "\u001b[0;31m---------------------------------------------------------------------------\u001b[0m",
      "\u001b[0;31mFileNotFoundError\u001b[0m                         Traceback (most recent call last)",
      "\u001b[1;32m/Users/wenweihuang/Workspace/Net2SAT/analysis/analysis.ipynb Cell 2\u001b[0m in \u001b[0;36m<cell line: 4>\u001b[0;34m()\u001b[0m\n\u001b[1;32m      <a href='vscode-notebook-cell:/Users/wenweihuang/Workspace/Net2SAT/analysis/analysis.ipynb#W1sZmlsZQ%3D%3D?line=0'>1</a>\u001b[0m \u001b[39m# generation analysis\u001b[39;00m\n\u001b[1;32m      <a href='vscode-notebook-cell:/Users/wenweihuang/Workspace/Net2SAT/analysis/analysis.ipynb#W1sZmlsZQ%3D%3D?line=2'>3</a>\u001b[0m directory \u001b[39m=\u001b[39m \u001b[39m'\u001b[39m\u001b[39m../result/generation_stat/\u001b[39m\u001b[39m'\u001b[39m\n\u001b[0;32m----> <a href='vscode-notebook-cell:/Users/wenweihuang/Workspace/Net2SAT/analysis/analysis.ipynb#W1sZmlsZQ%3D%3D?line=3'>4</a>\u001b[0m filenames \u001b[39m=\u001b[39m os\u001b[39m.\u001b[39;49mlistdir(directory)\n\u001b[1;32m      <a href='vscode-notebook-cell:/Users/wenweihuang/Workspace/Net2SAT/analysis/analysis.ipynb#W1sZmlsZQ%3D%3D?line=4'>5</a>\u001b[0m \u001b[39mprint\u001b[39m(filenames)\n\u001b[1;32m      <a href='vscode-notebook-cell:/Users/wenweihuang/Workspace/Net2SAT/analysis/analysis.ipynb#W1sZmlsZQ%3D%3D?line=6'>7</a>\u001b[0m lines \u001b[39m=\u001b[39m []\n",
      "\u001b[0;31mFileNotFoundError\u001b[0m: [Errno 2] No such file or directory: '../result/generation_stat/'"
     ]
    }
   ],
   "source": [
    "# generation analysis\n",
    "\n",
    "directory = '../result/generation_stat/'\n",
    "filenames = os.listdir(directory)\n",
    "print(filenames)\n",
    "\n",
    "lines = []\n",
    "for name in filenames:\n",
    "    file = open(f'{directory}/{name}', 'r')\n",
    "    line = file.readline()\n",
    "    lines.append(line)\n",
    "# print(lines)\n",
    "\n",
    "\n",
    "fileds = ['name', 'num_vars', 'num_clauses', 'OWC_time', 'GNN_time', 'CELL_time', 'GEN_time_avg']\n",
    "\n",
    "data_table = []\n",
    "for line in lines:\n",
    "    items = line.split(',')\n",
    "    items = [x.split('.')[0]  if 'cnf' in x else float(x) for x in items]\n",
    "    data_table.append(items)\n",
    "    # print(f'{items[0]} & {items[1]} & {items[2]} & {items[3]:.3f} & {items[4]:.3f} & {items[5]:.3f} & {items[6]:.3f} \\\\\\\\')\n",
    "\n",
    "# df = pd.DataFrame(data_table, columns=fileds)"
   ]
  },
  {
   "cell_type": "code",
   "execution_count": null,
   "metadata": {},
   "outputs": [],
   "source": [
    "# solver performance\n",
    "\n",
    "directory = '../result/glucose/'\n",
    "filenames = os.listdir(directory)\n",
    "lines = []\n",
    "for name in filenames:\n",
    "    file = open(f'{directory}/{name}', 'r')\n",
    "    line = file.readline()\n",
    "    lines.append(line)\n",
    "\n",
    "names = ['countbitsrotate016', 'smulo016', 'cmu-bmc-longmult15', 'countbitssrl016', 'aes_32_3_keyfind_2', 'sat_prob_83']\n",
    "vdecays = [0.75, 0.80, 0.85, 0.90, 0.95]\n",
    "cdecays = [0.7, 0.8, 0.9, 0.99, 0.999]\n",
    "\n",
    "data_1 = {'vars_decay': [], 'clau_decay': [], 'countbitssrl016': [],  'smulo016': [], 'cmu-bmc-longmult15': [], 'countbitsrotate016': [], 'aes_32_3_keyfind_2': [], 'sat_prob_83': []}\n",
    "\n",
    "for v in vdecays:\n",
    "    for c in cdecays:\n",
    "        data_1['vars_decay'].append(v)\n",
    "        data_1['clau_decay'].append(c)\n",
    "        for line in lines:\n",
    "            vars_decay, clau_decay, full_name, cost = line.split(',')\n",
    "            if float(vars_decay) == v and float(clau_decay) == c :\n",
    "                for name in names:\n",
    "                    if name in full_name:\n",
    "                        data_1[name].append(float(cost))\n",
    "\n",
    "\n",
    "directory = '../result/glucose_generation/'\n",
    "filenames = os.listdir(directory)\n",
    "lines = []\n",
    "for name in filenames:\n",
    "    file = open(f'{directory}/{name}', 'r')\n",
    "    line = file.readline()\n",
    "    lines.append(line)\n",
    "\n",
    "data_2 = {'vars_decay': [], 'clau_decay': [], 'countbitssrl016': [],  'smulo016': [], 'cmu-bmc-longmult15': [], 'countbitsrotate016': [], 'aes_32_3_keyfind_2': [], 'sat_prob_83': []}\n",
    "for v in vdecays:\n",
    "    for c in cdecays:\n",
    "        data_2['vars_decay'].append(v)\n",
    "        data_2['clau_decay'].append(c)\n",
    "        for line in lines:\n",
    "            vars_decay, clau_decay, full_name, cost = line.split(',')\n",
    "            if float(vars_decay) == v and float(clau_decay) == c :\n",
    "                for name in names:\n",
    "                    if name in full_name:\n",
    "                        data_2[name].append(float(cost))\n",
    "\n",
    "df_1 = pd.DataFrame.from_dict(data_1)\n",
    "df_2 = pd.DataFrame.from_dict(data_2)\n",
    "\n",
    "\n",
    "# print(df_1.idxmin())\n",
    "# for idx, min_idx in enumerate(df_1.idxmin()[2:]):\n",
    "#     print(df_1['vars_decay'][min_idx], df_1['clau_decay'][min_idx], df_1.loc[min_idx][idx+2])\n",
    "# print(df_2.idxmin())\n",
    "for idx, min_idx in enumerate(df_2.idxmin()[2:]):\n",
    "    print(df_2['vars_decay'][min_idx], df_2['clau_decay'][min_idx], df_2.loc[min_idx][idx+2])\n",
    "\n",
    "# for value in df_1.iloc[0]:\n",
    "#     print(value)\n",
    "\n",
    "# for i in range(25):\n",
    "#     print(f'{df_1.iloc[i][0]} & {df_1.iloc[i][1]} & ' + ' & '.join([f'{df_1.iloc[i][j]}/{df_2.iloc[i][j]:.3f}' for j in range(2, 8)]) + '\\\\\\\\')"
   ]
  },
  {
   "cell_type": "code",
   "execution_count": 1,
   "metadata": {},
   "outputs": [],
   "source": [
    "import os\n",
    "import pandas as pd\n",
    "\n",
    "fileds = ['name', 'num_vars', 'num_clauses', 'OWC_cost']\n",
    "owc_cost = [['sat_prob_83', 1759, 8012, 3.6921498775482178],\n",
    " ['mrpp_4x4#4_5', 309, 2517, 1.2340118885040283],\n",
    " ['aes_64_1_keyfind_1', 320, 2088, 0.8239221572875977],\n",
    " ['bmc-ibm-2', 119, 573, 0.24820470809936523],\n",
    " ['ssa2670-141', 91, 377, 0.10036611557006836],\n",
    " ['bmc-ibm-5', 1068, 6042, 9.23050594329834],\n",
    " ['ssa2670-130', 82, 327, 0.09561800956726074],\n",
    " ['bmc-ibm-7', 860, 4797, 34.162067890167236],\n",
    " ['countbitsrotate016', 1122, 4555, 75.66227293014526],\n",
    " ['mrpp_4x4#8_8', 717, 6773, 5.633049011230469],\n",
    " ['mrpp_4x4#4_4', 208, 1538, 0.773461103439331],\n",
    " ['bf0432-007', 473, 2038, 87.00907278060913],\n",
    " ['smulo016', 1459, 6288, 64.8259048461914],\n",
    " ['countbitssrl016', 1691, 8378, 143.53057074546814],\n",
    " ['cmu-bmc-longmult15', 1731, 9791, 67.88365077972412],\n",
    " ['aes_32_3_keyfind_2', 450, 2204, 0.9877197742462158],\n",
    " ['mrpp_4x4#6_5', 330, 2721, 1.503798007965088]]\n",
    "\n",
    "df = pd.DataFrame(owc_cost, columns=fileds)"
   ]
  },
  {
   "cell_type": "code",
   "execution_count": 2,
   "metadata": {},
   "outputs": [],
   "source": [
    "import pickle\n",
    "import matplotlib.pyplot as plt\n",
    "import matplotlib\n",
    "\n",
    "plt.rc(\"savefig\", bbox=\"tight\")\n",
    "plt.rc(\"xtick\", direction=\"in\")\n",
    "plt.rc(\"ytick\", direction=\"in\")\n",
    "# plt.rcParams.update({\n",
    "#     \"text.usetex\": True,\n",
    "#     \"text.latex.preamble\": \"\\\\usepackage{tgpagella}\",\n",
    "#     \"font.family\": \"serif\",\n",
    "#     # \"font.serif\": \"Palatino\",\n",
    "# })\n",
    "\n",
    "matplotlib.rcParams['mathtext.fontset'] = 'stix'\n",
    "matplotlib.rcParams['font.family'] = 'STIXGeneral'"
   ]
  },
  {
   "cell_type": "code",
   "execution_count": 6,
   "metadata": {},
   "outputs": [
    {
     "data": {
      "image/png": "[encoded data removed]",
      "text/plain": [
       "<Figure size 432x288 with 1 Axes>"
      ]
     },
     "metadata": {
      "needs_background": "light"
     },
     "output_type": "display_data"
    }
   ],
   "source": [
    "\n",
    "sort_df = df.sort_values(by=['num_clauses'])\n",
    "sort_df\n",
    "\n",
    "owc_x = sort_df[\"num_clauses\"].to_numpy()\n",
    "owc_y = sort_df['OWC_cost'].to_numpy()\n",
    "plt.plot(owc_x, owc_y, linestyle=\"dotted\", color=\"xkcd:orange\")\n",
    "plt.xlabel(\"Num. Clauses\")\n",
    "plt.ylabel(\"Time. OWC (S)\")\n",
    "plt.scatter(owc_x, owc_y, color=\"xkcd:deep red\", s=15)\n",
    "\n",
    "plt.savefig(\"../fig/owc_cost.pdf\", dpi=200)"
   ]
  }
 ],
 "metadata": {
  "kernelspec": {
   "display_name": "base",
   "language": "python",
   "name": "python3"
  },
  "language_info": {
   "codemirror_mode": {
    "name": "ipython",
    "version": 3
   },
   "file_extension": ".py",
   "mimetype": "text/x-python",
   "name": "python",
   "nbconvert_exporter": "python",
   "pygments_lexer": "ipython3",
   "version": "3.9.12"
  },
  "orig_nbformat": 4,
  "vscode": {
   "interpreter": {
    "hash": "7df9adec5398d45472c8bf81047aa2ae699f575f599903d765e95bf4a199fe03"
   }
  }
 },
 "nbformat": 4,
 "nbformat_minor": 2
}
