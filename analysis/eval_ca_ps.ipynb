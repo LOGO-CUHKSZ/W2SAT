{
 "cells": [
  {
   "cell_type": "code",
   "execution_count": 12,
   "metadata": {},
   "outputs": [],
   "source": [
    "from utils import *\n",
    "import subprocess"
   ]
  },
  {
   "cell_type": "code",
   "execution_count": 40,
   "metadata": {},
   "outputs": [
    {
     "name": "stdout",
     "output_type": "stream",
     "text": [
      "clu. VIG: 0.19733825564104762\n",
      "clu. LIG: 0.12372328866696802\n",
      "mod. VIG: 0.7041788304984458\n",
      "mod. LIG: 0.7175855928013319\n",
      "mod. VCG: 0.7731171119450718\n",
      "mod. LCG: 0.6219127893738713\n"
     ]
    }
   ],
   "source": [
    "# CA setting\n",
    "\n",
    "# sat_name = 'ssa2670-141.processed.cnf'\n",
    "# sat_name = 'mrpp_4x4#4_5.processed.cnf'\n",
    "# sat_name = 'bf0432-007.processed.cnf'\n",
    "sat_name = 'bmc-ibm-7.processed.cnf'\n",
    "# sat_name = 'countbitsrotate016.processed.cnf'\n",
    "\n",
    "sat_path = f'./dataset/formulas/{sat_name}'\n",
    "num_vars, num_clauses, sat_instance = read_sat(sat_path)\n",
    "max_len = max([len(clause) for clause in sat_instance])\n",
    "# print(max_len)\n",
    "\n",
    "\n",
    "VIG = nx.Graph()\n",
    "VIG.add_nodes_from(range(num_vars + 1)[1:])\n",
    "preprocess_VIG(sat_instance, VIG)  # Build a VIG\n",
    "part_VIG = community.best_partition(VIG)\n",
    "num_com = len(set(part_VIG.values()))\n",
    "mod_VIG = community.modularity(part_VIG, VIG)\n",
    "\n",
    "temp = open(\"temp\", \"w\")\n",
    "subprocess.call([f\"/Users/wenweihuang/Workspace/Net2SAT/eval/ca\", f\"-n {num_vars}\", f\"-m {num_clauses}\", f'-k {3}', f'-c {num_com}', f'-Q {mod_VIG}'], stdout=temp)\n",
    "temp.close()\n",
    "temp2 = open('temp2', 'w')\n",
    "with open(\"temp\", \"r\") as f:\n",
    "    for line in f.readlines()[7:]:\n",
    "        temp2.write(line)\n",
    "temp2.close()\n",
    "\n",
    "num_vars, num_clauses, temp_instance = read_sat('./temp2')\n",
    "\n",
    "features = [\n",
    "        \"clu. VIG\",\n",
    "        \"clu. LIG\",\n",
    "        \"mod. VIG\",\n",
    "        \"mod. LIG\",\n",
    "        \"mod. VCG\",\n",
    "        \"mod. LCG\"\n",
    "]\n",
    "\n",
    "metrics = eval_solution(temp_instance, num_vars)\n",
    "for feature, value in zip(features, metrics):\n",
    "    print(f'{feature}: {value}')\n",
    "# f\"ca -n {num_vars} -m {num_clauses} -k {max_len} -c {num_com} -Q {mod_VIG}\""
   ]
  },
  {
   "cell_type": "code",
   "execution_count": 63,
   "metadata": {},
   "outputs": [
    {
     "name": "stdout",
     "output_type": "stream",
     "text": [
      "['0.264954', '0.783067']\n",
      "clu. VIG: 0.40557487436023976\n",
      "clu. LIG: 0.2800705222533292\n",
      "mod. VIG: 0.1628590785907859\n",
      "mod. LIG: 0.29853471991607294\n",
      "mod. VCG: 0.43267970177327164\n",
      "mod. LCG: 0.4518891679780731\n"
     ]
    },
    {
     "name": "stderr",
     "output_type": "stream",
     "text": [
      "Rigid edges: 7 (truncated) + 747\n",
      "Flexible edges: 8 (truncated) + 369\n"
     ]
    }
   ],
   "source": [
    "# PS setting\n",
    "\n",
    "sat_name = 'ssa2670-141.processed.cnf'\n",
    "# sat_name = 'mrpp_4x4#4_5.processed.cnf'\n",
    "# sat_name = 'bf0432-007.processed.cnf'\n",
    "# sat_name = 'bmc-ibm-7.processed.cnf'\n",
    "# sat_name = 'countbitsrotate016.processed.cnf'\n",
    "\n",
    "sat_path = f'./dataset/formulas/{sat_name}'\n",
    "num_vars, num_clauses, sat_instance = read_sat(sat_path)\n",
    "clau_lens = [len(clause) for clause in sat_instance]\n",
    "min_len = min(clau_lens)\n",
    "avg_len = sum(clau_lens)/num_clauses\n",
    "T = 1.5\n",
    "feats = []\n",
    "f = open(\"blah.txt\", \"w\")\n",
    "subprocess.call(\n",
    "    [\n",
    "        \"/Users/wenweihuang/Workspace/Net2SAT/eval/scalefree\",\n",
    "        sat_path,\n",
    "    ],\n",
    "    stdout=f,\n",
    ")\n",
    "f.close()\n",
    "with open(\"blah.txt\", \"r\") as f:\n",
    "    for line in f.readlines():\n",
    "        if \"beta\" in line:\n",
    "            feats.append(line.split()[-1])\n",
    "print(feats)\n",
    "\n",
    "temp = open(\"temp\", \"w\")\n",
    "subprocess.call([f\"/Users/wenweihuang/Workspace/Net2SAT/eval/ps-sat\", f\"-n {num_vars}\", f\"-m {num_clauses}\", f'-k {avg_len - min_len}', f'-K {min_len}', f'-b {feats[0]}', f'-B {feats[1]}', f'-T {T}'], stdout=temp)\n",
    "temp.close()\n",
    "temp2 = open('temp2', 'w')\n",
    "with open(\"temp\", \"r\") as f:\n",
    "    for line in f.readlines()[12:]:\n",
    "        temp2.write(line)\n",
    "temp2.close()\n",
    "\n",
    "num_vars, num_clauses, temp_instance = read_sat('./temp2')\n",
    "\n",
    "features = [\n",
    "        \"clu. VIG\",\n",
    "        \"clu. LIG\",\n",
    "        \"mod. VIG\",\n",
    "        \"mod. LIG\",\n",
    "        \"mod. VCG\",\n",
    "        \"mod. LCG\"\n",
    "]\n",
    "\n",
    "metrics = eval_solution(temp_instance, num_vars)\n",
    "for feature, value in zip(features, metrics):\n",
    "    print(f'{feature}: {value}')"
   ]
  }
 ],
 "metadata": {
  "kernelspec": {
   "display_name": "base",
   "language": "python",
   "name": "python3"
  },
  "language_info": {
   "codemirror_mode": {
    "name": "ipython",
    "version": 3
   },
   "file_extension": ".py",
   "mimetype": "text/x-python",
   "name": "python",
   "nbconvert_exporter": "python",
   "pygments_lexer": "ipython3",
   "version": "3.9.12 (main, Jun  1 2022, 06:34:44) \n[Clang 12.0.0 ]"
  },
  "orig_nbformat": 4,
  "vscode": {
   "interpreter": {
    "hash": "7df9adec5398d45472c8bf81047aa2ae699f575f599903d765e95bf4a199fe03"
   }
  }
 },
 "nbformat": 4,
 "nbformat_minor": 2
}
