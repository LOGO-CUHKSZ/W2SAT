{
 "cells": [
  {
   "cell_type": "code",
   "execution_count": 2,
   "metadata": {},
   "outputs": [],
   "source": [
    "import warnings\n",
    "warnings.filterwarnings('ignore')\n",
    "\n",
    "import pickle\n",
    "import numpy as np\n",
    "import scipy.sparse as sp\n",
    "from scipy.sparse import load_npz\n",
    "\n",
    "import torch\n",
    "\n",
    "from cell.utils import link_prediction_performance\n",
    "from cell.cell import Cell, EdgeOverlapCriterion, LinkPredictionCriterion\n",
    "from cell.graph_statistics import compute_graph_statistics"
   ]
  },
  {
   "cell_type": "markdown",
   "metadata": {},
   "source": [
    "# Load graph and validation-/ test edges (same split as in paper)"
   ]
  },
  {
   "cell_type": "code",
   "execution_count": 3,
   "metadata": {},
   "outputs": [],
   "source": [
    "train_graph = load_npz('./data/CORA-ML_train.npz')\n",
    "with open('./data/link_prediction.p', 'rb') as handle:\n",
    "    val_ones, val_zeros, test_ones, test_zeros = pickle.load(handle)"
   ]
  },
  {
   "cell_type": "code",
   "execution_count": null,
   "metadata": {},
   "outputs": [],
   "source": []
  },
  {
   "cell_type": "markdown",
   "metadata": {},
   "source": [
    "## Edge overlap criterion"
   ]
  },
  {
   "cell_type": "code",
   "execution_count": 4,
   "metadata": {},
   "outputs": [],
   "source": [
    "# initialize model with EO-criterion\n",
    "model = Cell(A=train_graph,\n",
    "             H=9,\n",
    "             callbacks=[EdgeOverlapCriterion(invoke_every=10, edge_overlap_limit=.5)])"
   ]
  },
  {
   "cell_type": "code",
   "execution_count": 5,
   "metadata": {},
   "outputs": [
    {
     "name": "stdout",
     "output_type": "stream",
     "text": [
      "Step:  10/200 Loss: 6.05214 Edge-Overlap: 0.038 Total-Time: 2\n",
      "Step:  20/200 Loss: 4.13551 Edge-Overlap: 0.276 Total-Time: 4\n",
      "Step:  30/200 Loss: 3.34509 Edge-Overlap: 0.442 Total-Time: 6\n",
      "Step:  40/200 Loss: 2.97531 Edge-Overlap: 0.540 Total-Time: 7\n"
     ]
    }
   ],
   "source": [
    "# train model \n",
    "model.train(steps=200,\n",
    "            optimizer_fn=torch.optim.Adam,\n",
    "            optimizer_args={'lr': 0.1,\n",
    "                            'weight_decay': 1e-7})"
   ]
  },
  {
   "cell_type": "code",
   "execution_count": 9,
   "metadata": {},
   "outputs": [
    {
     "data": {
      "text/plain": [
       "{'d_max': 218.0,\n",
       " 'd_min': 1.0,\n",
       " 'd': 4.8277580071174375,\n",
       " 'LCC': 2806,\n",
       " 'wedge_count': 84856.0,\n",
       " 'claw_count': 2154803.0,\n",
       " 'triangle_count': 1387,\n",
       " 'square_count': 6491.0,\n",
       " 'power_law_exp': 1.8248525001252212,\n",
       " 'gini': 0.4534575920647337,\n",
       " 'rel_edge_distr_entropy': 0.9493383799331402,\n",
       " 'assortativity': -0.07043103198360995,\n",
       " 'clustering_coefficient': 0.04903601395304987,\n",
       " 'cpl': 5.174384315563001}"
      ]
     },
     "execution_count": 9,
     "metadata": {},
     "output_type": "execute_result"
    }
   ],
   "source": [
    "generated_graph = model.sample_graph()\n",
    "compute_graph_statistics(generated_graph)\n"
   ]
  },
  {
   "cell_type": "code",
   "execution_count": 21,
   "metadata": {},
   "outputs": [
    {
     "data": {
      "text/plain": [
       "{'d_max': 238.0,\n",
       " 'd_min': 1.0,\n",
       " 'd': 4.8277580071174375,\n",
       " 'LCC': 2810,\n",
       " 'wedge_count': 101747.0,\n",
       " 'claw_count': 3033514.0,\n",
       " 'triangle_count': 2802,\n",
       " 'square_count': 14268.0,\n",
       " 'power_law_exp': 1.8550648593086239,\n",
       " 'gini': 0.4825742921255409,\n",
       " 'rel_edge_distr_entropy': 0.9406652031226009,\n",
       " 'assortativity': -0.07626405450439556,\n",
       " 'clustering_coefficient': 0.08261668648707088,\n",
       " 'cpl': 5.630006245811316}"
      ]
     },
     "execution_count": 21,
     "metadata": {},
     "output_type": "execute_result"
    }
   ],
   "source": [
    "compute_graph_statistics(train_graph)"
   ]
  },
  {
   "cell_type": "markdown",
   "metadata": {},
   "source": [
    "## Validation criterion"
   ]
  },
  {
   "cell_type": "code",
   "execution_count": 8,
   "metadata": {},
   "outputs": [],
   "source": [
    "# initialize model with LP-criterion\n",
    "model = Cell(A=train_graph,\n",
    "             H=9,\n",
    "             callbacks=[LinkPredictionCriterion(invoke_every=2,\n",
    "                                                val_ones=val_ones,\n",
    "                                                val_zeros=val_zeros,\n",
    "                                                max_patience=3)])"
   ]
  },
  {
   "cell_type": "code",
   "execution_count": 9,
   "metadata": {},
   "outputs": [
    {
     "name": "stdout",
     "output_type": "stream",
     "text": [
      "Step:   2/200 Loss: 7.92396 ROC-AUC Score: 0.627 Average Precision: 0.631 Total-Time: 0\n",
      "Step:   4/200 Loss: 7.70772 ROC-AUC Score: 0.710 Average Precision: 0.718 Total-Time: 1\n",
      "Step:   6/200 Loss: 7.25824 ROC-AUC Score: 0.753 Average Precision: 0.768 Total-Time: 1\n",
      "Step:   8/200 Loss: 6.61056 ROC-AUC Score: 0.789 Average Precision: 0.808 Total-Time: 2\n",
      "Step:  10/200 Loss: 5.90689 ROC-AUC Score: 0.832 Average Precision: 0.852 Total-Time: 2\n",
      "Step:  12/200 Loss: 5.30491 ROC-AUC Score: 0.871 Average Precision: 0.887 Total-Time: 3\n",
      "Step:  14/200 Loss: 4.86908 ROC-AUC Score: 0.894 Average Precision: 0.907 Total-Time: 3\n",
      "Step:  16/200 Loss: 4.55844 ROC-AUC Score: 0.903 Average Precision: 0.915 Total-Time: 4\n",
      "Step:  18/200 Loss: 4.28209 ROC-AUC Score: 0.907 Average Precision: 0.917 Total-Time: 4\n",
      "Step:  20/200 Loss: 4.04326 ROC-AUC Score: 0.912 Average Precision: 0.921 Total-Time: 5\n",
      "Step:  22/200 Loss: 3.85592 ROC-AUC Score: 0.920 Average Precision: 0.930 Total-Time: 5\n",
      "Step:  24/200 Loss: 3.68916 ROC-AUC Score: 0.926 Average Precision: 0.935 Total-Time: 6\n",
      "Step:  26/200 Loss: 3.54530 ROC-AUC Score: 0.930 Average Precision: 0.938 Total-Time: 7\n",
      "Step:  28/200 Loss: 3.42410 ROC-AUC Score: 0.933 Average Precision: 0.939 Total-Time: 7\n",
      "Step:  30/200 Loss: 3.31643 ROC-AUC Score: 0.936 Average Precision: 0.941 Total-Time: 8\n",
      "Step:  32/200 Loss: 3.22656 ROC-AUC Score: 0.938 Average Precision: 0.943 Total-Time: 8\n",
      "Step:  34/200 Loss: 3.14720 ROC-AUC Score: 0.941 Average Precision: 0.945 Total-Time: 9\n",
      "Step:  36/200 Loss: 3.07864 ROC-AUC Score: 0.942 Average Precision: 0.947 Total-Time: 9\n",
      "Step:  38/200 Loss: 3.01861 ROC-AUC Score: 0.944 Average Precision: 0.950 Total-Time: 10\n",
      "Step:  40/200 Loss: 2.96615 ROC-AUC Score: 0.945 Average Precision: 0.951 Total-Time: 11\n",
      "Step:  42/200 Loss: 2.91991 ROC-AUC Score: 0.946 Average Precision: 0.951 Total-Time: 11\n",
      "Step:  44/200 Loss: 2.87829 ROC-AUC Score: 0.946 Average Precision: 0.950 Total-Time: 12\n",
      "Step:  46/200 Loss: 2.84080 ROC-AUC Score: 0.947 Average Precision: 0.951 Total-Time: 12\n",
      "Step:  48/200 Loss: 2.80773 ROC-AUC Score: 0.947 Average Precision: 0.951 Total-Time: 13\n",
      "Step:  50/200 Loss: 2.77810 ROC-AUC Score: 0.948 Average Precision: 0.951 Total-Time: 13\n",
      "Step:  52/200 Loss: 2.75110 ROC-AUC Score: 0.948 Average Precision: 0.951 Total-Time: 14\n",
      "Step:  54/200 Loss: 2.72658 ROC-AUC Score: 0.948 Average Precision: 0.952 Total-Time: 15\n",
      "Step:  56/200 Loss: 2.70426 ROC-AUC Score: 0.948 Average Precision: 0.952 Total-Time: 15\n",
      "Step:  58/200 Loss: 2.68388 ROC-AUC Score: 0.948 Average Precision: 0.952 Total-Time: 16\n",
      "Step:  60/200 Loss: 2.66517 ROC-AUC Score: 0.948 Average Precision: 0.951 Total-Time: 16\n",
      "Step:  62/200 Loss: 2.64775 ROC-AUC Score: 0.947 Average Precision: 0.950 Total-Time: 17\n",
      "Step:  64/200 Loss: 2.63162 ROC-AUC Score: 0.947 Average Precision: 0.950 Total-Time: 17\n"
     ]
    }
   ],
   "source": [
    "# train model \n",
    "model.train(steps=200,\n",
    "            optimizer_fn=torch.optim.Adam,\n",
    "            optimizer_args={'lr': 0.1,\n",
    "                            'weight_decay': 1e-6})"
   ]
  },
  {
   "cell_type": "markdown",
   "metadata": {},
   "source": [
    "#### Link prediction performance for ROC-AUC score and average precision"
   ]
  },
  {
   "cell_type": "code",
   "execution_count": 10,
   "metadata": {},
   "outputs": [
    {
     "data": {
      "text/plain": [
       "(0.94055625, 0.9441997059710999)"
      ]
     },
     "execution_count": 10,
     "metadata": {},
     "output_type": "execute_result"
    }
   ],
   "source": [
    "link_prediction_performance(scores_matrix=model._scores_matrix, val_ones=test_ones, val_zeros=test_zeros)"
   ]
  }
 ],
 "metadata": {
  "kernelspec": {
   "display_name": "Python 3.9.12 ('base')",
   "language": "python",
   "name": "python3"
  },
  "language_info": {
   "codemirror_mode": {
    "name": "ipython",
    "version": 3
   },
   "file_extension": ".py",
   "mimetype": "text/x-python",
   "name": "python",
   "nbconvert_exporter": "python",
   "pygments_lexer": "ipython3",
   "version": "3.9.12"
  },
  "vscode": {
   "interpreter": {
    "hash": "7df9adec5398d45472c8bf81047aa2ae699f575f599903d765e95bf4a199fe03"
   }
  }
 },
 "nbformat": 4,
 "nbformat_minor": 2
}
